{
  "nbformat": 4,
  "nbformat_minor": 0,
  "metadata": {
    "colab": {
      "provenance": [],
      "include_colab_link": true
    },
    "kernelspec": {
      "name": "python3",
      "display_name": "Python 3"
    },
    "language_info": {
      "name": "python"
    }
  },
  "cells": [
    {
      "cell_type": "markdown",
      "metadata": {
        "id": "view-in-github",
        "colab_type": "text"
      },
      "source": [
        "<a href=\"https://colab.research.google.com/github/Bhumika247/ChicagoCrimeTrend/blob/main/Chicago_Crime_Data.ipynb\" target=\"_parent\"><img src=\"https://colab.research.google.com/assets/colab-badge.svg\" alt=\"Open In Colab\"/></a>"
      ]
    },
    {
      "cell_type": "code",
      "source": [
        "from google.colab import drive\n",
        "drive.mount('/content/drive')"
      ],
      "metadata": {
        "colab": {
          "base_uri": "https://localhost:8080/"
        },
        "id": "LCZtH92g1wHL",
        "outputId": "ec3e689d-0805-4355-9ed7-58f8c1d7b42d"
      },
      "execution_count": null,
      "outputs": [
        {
          "output_type": "stream",
          "name": "stdout",
          "text": [
            "Mounted at /content/drive\n"
          ]
        }
      ]
    },
    {
      "cell_type": "code",
      "execution_count": null,
      "metadata": {
        "id": "1wXmVuMt5awe"
      },
      "outputs": [],
      "source": [
        "import pandas as pd\n",
        "from sklearn.preprocessing import LabelEncoder\n",
        "from sklearn.model_selection import train_test_split\n",
        "from sklearn.ensemble import RandomForestClassifier\n",
        "from sklearn.feature_selection import SelectFromModel\n",
        "from sklearn.metrics import accuracy_score,confusion_matrix\n",
        "from sklearn.neighbors import KNeighborsClassifier\n",
        "from sklearn.svm import SVC"
      ]
    },
    {
      "cell_type": "code",
      "execution_count": null,
      "metadata": {
        "id": "9RGptFeKCa98"
      },
      "outputs": [],
      "source": [
        "mydata = pd.read_csv('drive/MyDrive/Colab Notebooks/crimedataSmaller.csv')"
      ]
    },
    {
      "cell_type": "code",
      "source": [
        "mydata"
      ],
      "metadata": {
        "colab": {
          "base_uri": "https://localhost:8080/",
          "height": 800
        },
        "id": "6kAUPgNP_qcj",
        "outputId": "1f8cdaa5-13c1-4ffa-cf49-927751f44bc6"
      },
      "execution_count": null,
      "outputs": [
        {
          "output_type": "execute_result",
          "data": {
            "text/plain": [
              "                      Block  IUCR     Primary Type              Description  \\\n",
              "0           047XX W OHIO ST  041A          BATTERY      AGGRAVATED: HANDGUN   \n",
              "1    066XX S MARSHFIELD AVE  4625    OTHER OFFENSE         PAROLE VIOLATION   \n",
              "2     044XX S LAKE PARK AVE   486          BATTERY  DOMESTIC BATTERY SIMPLE   \n",
              "3      051XX S MICHIGAN AVE   460          BATTERY                   SIMPLE   \n",
              "4          047XX W ADAMS ST  031A          ROBBERY           ARMED: HANDGUN   \n",
              "..                      ...   ...              ...                      ...   \n",
              "494     009XX W DICKENS AVE  1320  CRIMINAL DAMAGE               TO VEHICLE   \n",
              "495     004XX S FRANKLIN ST   810            THEFT                OVER $500   \n",
              "496    035XX S WESTERN BLVD   460          BATTERY                   SIMPLE   \n",
              "497         011XX W OHIO ST   620         BURGLARY           UNLAWFUL ENTRY   \n",
              "498     036XX N ASHLAND AVE   810            THEFT                OVER $500   \n",
              "\n",
              "               Location Description  Arrest Domestic  Beat  District  Ward  \\\n",
              "0                            STREET   False    FALSE  1111        11    28   \n",
              "1                            STREET    True    FALSE   725         7    15   \n",
              "2                         APARTMENT   False     TRUE   222         2     4   \n",
              "3                         APARTMENT   False    FALSE   225         2     3   \n",
              "4                          SIDEWALK   False    FALSE  1113        11    28   \n",
              "..                              ...     ...      ...   ...       ...   ...   \n",
              "494                          STREET   False    FALSE  1812        18    43   \n",
              "495  PARKING LOT/GARAGE(NON.RESID.)   False    FALSE   122         1     2   \n",
              "496                        SIDEWALK   False    FALSE   911         9    12   \n",
              "497                RESIDENCE-GARAGE   False    FALSE  1214        12    27   \n",
              "498                     GAS STATION   False    FALSE  1922        19    47   \n",
              "\n",
              "     Community Area FBI Code  X Coordinate Y Coordinate  Year  \\\n",
              "0                25      04B       1144606      1903566  2015   \n",
              "1                67       26       1166468      1860715  2015   \n",
              "2                39      08B       1185075      1875622  2015   \n",
              "3                40      08B       1178033      1870804  2015   \n",
              "4                25        3       1144920      1898709  2015   \n",
              "..              ...      ...           ...          ...   ...   \n",
              "494               7       14       1169489      1914149  2015   \n",
              "495              32        6       1174386      1898413  2015   \n",
              "496              59      08B       1161093      1881324  2015   \n",
              "497              24        5       1168750      1904033  2015   \n",
              "498               6        6       1165009      1924140  2015   \n",
              "\n",
              "          Updated On   Latitude     Longitude                       Location  \n",
              "0    2/10/2018 15:50  41.891399  -87.74438457  (41.891398861, -87.744384567)  \n",
              "1    2/10/2018 15:50  41.773372  -87.66531947  (41.773371528, -87.665319468)  \n",
              "2    2/10/2018 15:50  41.813861  -87.59664284   (41.81386068, -87.596642837)  \n",
              "3    2/10/2018 15:50  41.800802  -87.62261934  (41.800802415, -87.622619343)  \n",
              "4    2/10/2018 15:50  41.878065  -87.74335401  (41.878064761, -87.743354013)  \n",
              "..               ...        ...           ...                            ...  \n",
              "494  2/10/2018 15:50  41.919934  -87.65269275  (41.919934216, -87.652692746)  \n",
              "495  2/10/2018 15:50  41.876646  -87.63517102  (41.876645737, -87.635171022)  \n",
              "496  2/10/2018 15:50  41.830038  -87.68445274  (41.830038123, -87.684452738)  \n",
              "497  2/10/2018 15:50  41.892191  -87.65570155   (41.892191358, -87.65570155)  \n",
              "498  2/10/2018 15:50  41.947446  -87.66886843  (41.947446464, -87.668868434)  \n",
              "\n",
              "[499 rows x 19 columns]"
            ],
            "text/html": [
              "\n",
              "  <div id=\"df-4a2fbd0b-a1dc-4819-90f2-ccb868be2da8\">\n",
              "    <div class=\"colab-df-container\">\n",
              "      <div>\n",
              "<style scoped>\n",
              "    .dataframe tbody tr th:only-of-type {\n",
              "        vertical-align: middle;\n",
              "    }\n",
              "\n",
              "    .dataframe tbody tr th {\n",
              "        vertical-align: top;\n",
              "    }\n",
              "\n",
              "    .dataframe thead th {\n",
              "        text-align: right;\n",
              "    }\n",
              "</style>\n",
              "<table border=\"1\" class=\"dataframe\">\n",
              "  <thead>\n",
              "    <tr style=\"text-align: right;\">\n",
              "      <th></th>\n",
              "      <th>Block</th>\n",
              "      <th>IUCR</th>\n",
              "      <th>Primary Type</th>\n",
              "      <th>Description</th>\n",
              "      <th>Location Description</th>\n",
              "      <th>Arrest</th>\n",
              "      <th>Domestic</th>\n",
              "      <th>Beat</th>\n",
              "      <th>District</th>\n",
              "      <th>Ward</th>\n",
              "      <th>Community Area</th>\n",
              "      <th>FBI Code</th>\n",
              "      <th>X Coordinate</th>\n",
              "      <th>Y Coordinate</th>\n",
              "      <th>Year</th>\n",
              "      <th>Updated On</th>\n",
              "      <th>Latitude</th>\n",
              "      <th>Longitude</th>\n",
              "      <th>Location</th>\n",
              "    </tr>\n",
              "  </thead>\n",
              "  <tbody>\n",
              "    <tr>\n",
              "      <th>0</th>\n",
              "      <td>047XX W OHIO ST</td>\n",
              "      <td>041A</td>\n",
              "      <td>BATTERY</td>\n",
              "      <td>AGGRAVATED: HANDGUN</td>\n",
              "      <td>STREET</td>\n",
              "      <td>False</td>\n",
              "      <td>FALSE</td>\n",
              "      <td>1111</td>\n",
              "      <td>11</td>\n",
              "      <td>28</td>\n",
              "      <td>25</td>\n",
              "      <td>04B</td>\n",
              "      <td>1144606</td>\n",
              "      <td>1903566</td>\n",
              "      <td>2015</td>\n",
              "      <td>2/10/2018 15:50</td>\n",
              "      <td>41.891399</td>\n",
              "      <td>-87.74438457</td>\n",
              "      <td>(41.891398861, -87.744384567)</td>\n",
              "    </tr>\n",
              "    <tr>\n",
              "      <th>1</th>\n",
              "      <td>066XX S MARSHFIELD AVE</td>\n",
              "      <td>4625</td>\n",
              "      <td>OTHER OFFENSE</td>\n",
              "      <td>PAROLE VIOLATION</td>\n",
              "      <td>STREET</td>\n",
              "      <td>True</td>\n",
              "      <td>FALSE</td>\n",
              "      <td>725</td>\n",
              "      <td>7</td>\n",
              "      <td>15</td>\n",
              "      <td>67</td>\n",
              "      <td>26</td>\n",
              "      <td>1166468</td>\n",
              "      <td>1860715</td>\n",
              "      <td>2015</td>\n",
              "      <td>2/10/2018 15:50</td>\n",
              "      <td>41.773372</td>\n",
              "      <td>-87.66531947</td>\n",
              "      <td>(41.773371528, -87.665319468)</td>\n",
              "    </tr>\n",
              "    <tr>\n",
              "      <th>2</th>\n",
              "      <td>044XX S LAKE PARK AVE</td>\n",
              "      <td>486</td>\n",
              "      <td>BATTERY</td>\n",
              "      <td>DOMESTIC BATTERY SIMPLE</td>\n",
              "      <td>APARTMENT</td>\n",
              "      <td>False</td>\n",
              "      <td>TRUE</td>\n",
              "      <td>222</td>\n",
              "      <td>2</td>\n",
              "      <td>4</td>\n",
              "      <td>39</td>\n",
              "      <td>08B</td>\n",
              "      <td>1185075</td>\n",
              "      <td>1875622</td>\n",
              "      <td>2015</td>\n",
              "      <td>2/10/2018 15:50</td>\n",
              "      <td>41.813861</td>\n",
              "      <td>-87.59664284</td>\n",
              "      <td>(41.81386068, -87.596642837)</td>\n",
              "    </tr>\n",
              "    <tr>\n",
              "      <th>3</th>\n",
              "      <td>051XX S MICHIGAN AVE</td>\n",
              "      <td>460</td>\n",
              "      <td>BATTERY</td>\n",
              "      <td>SIMPLE</td>\n",
              "      <td>APARTMENT</td>\n",
              "      <td>False</td>\n",
              "      <td>FALSE</td>\n",
              "      <td>225</td>\n",
              "      <td>2</td>\n",
              "      <td>3</td>\n",
              "      <td>40</td>\n",
              "      <td>08B</td>\n",
              "      <td>1178033</td>\n",
              "      <td>1870804</td>\n",
              "      <td>2015</td>\n",
              "      <td>2/10/2018 15:50</td>\n",
              "      <td>41.800802</td>\n",
              "      <td>-87.62261934</td>\n",
              "      <td>(41.800802415, -87.622619343)</td>\n",
              "    </tr>\n",
              "    <tr>\n",
              "      <th>4</th>\n",
              "      <td>047XX W ADAMS ST</td>\n",
              "      <td>031A</td>\n",
              "      <td>ROBBERY</td>\n",
              "      <td>ARMED: HANDGUN</td>\n",
              "      <td>SIDEWALK</td>\n",
              "      <td>False</td>\n",
              "      <td>FALSE</td>\n",
              "      <td>1113</td>\n",
              "      <td>11</td>\n",
              "      <td>28</td>\n",
              "      <td>25</td>\n",
              "      <td>3</td>\n",
              "      <td>1144920</td>\n",
              "      <td>1898709</td>\n",
              "      <td>2015</td>\n",
              "      <td>2/10/2018 15:50</td>\n",
              "      <td>41.878065</td>\n",
              "      <td>-87.74335401</td>\n",
              "      <td>(41.878064761, -87.743354013)</td>\n",
              "    </tr>\n",
              "    <tr>\n",
              "      <th>...</th>\n",
              "      <td>...</td>\n",
              "      <td>...</td>\n",
              "      <td>...</td>\n",
              "      <td>...</td>\n",
              "      <td>...</td>\n",
              "      <td>...</td>\n",
              "      <td>...</td>\n",
              "      <td>...</td>\n",
              "      <td>...</td>\n",
              "      <td>...</td>\n",
              "      <td>...</td>\n",
              "      <td>...</td>\n",
              "      <td>...</td>\n",
              "      <td>...</td>\n",
              "      <td>...</td>\n",
              "      <td>...</td>\n",
              "      <td>...</td>\n",
              "      <td>...</td>\n",
              "      <td>...</td>\n",
              "    </tr>\n",
              "    <tr>\n",
              "      <th>494</th>\n",
              "      <td>009XX W DICKENS AVE</td>\n",
              "      <td>1320</td>\n",
              "      <td>CRIMINAL DAMAGE</td>\n",
              "      <td>TO VEHICLE</td>\n",
              "      <td>STREET</td>\n",
              "      <td>False</td>\n",
              "      <td>FALSE</td>\n",
              "      <td>1812</td>\n",
              "      <td>18</td>\n",
              "      <td>43</td>\n",
              "      <td>7</td>\n",
              "      <td>14</td>\n",
              "      <td>1169489</td>\n",
              "      <td>1914149</td>\n",
              "      <td>2015</td>\n",
              "      <td>2/10/2018 15:50</td>\n",
              "      <td>41.919934</td>\n",
              "      <td>-87.65269275</td>\n",
              "      <td>(41.919934216, -87.652692746)</td>\n",
              "    </tr>\n",
              "    <tr>\n",
              "      <th>495</th>\n",
              "      <td>004XX S FRANKLIN ST</td>\n",
              "      <td>810</td>\n",
              "      <td>THEFT</td>\n",
              "      <td>OVER $500</td>\n",
              "      <td>PARKING LOT/GARAGE(NON.RESID.)</td>\n",
              "      <td>False</td>\n",
              "      <td>FALSE</td>\n",
              "      <td>122</td>\n",
              "      <td>1</td>\n",
              "      <td>2</td>\n",
              "      <td>32</td>\n",
              "      <td>6</td>\n",
              "      <td>1174386</td>\n",
              "      <td>1898413</td>\n",
              "      <td>2015</td>\n",
              "      <td>2/10/2018 15:50</td>\n",
              "      <td>41.876646</td>\n",
              "      <td>-87.63517102</td>\n",
              "      <td>(41.876645737, -87.635171022)</td>\n",
              "    </tr>\n",
              "    <tr>\n",
              "      <th>496</th>\n",
              "      <td>035XX S WESTERN BLVD</td>\n",
              "      <td>460</td>\n",
              "      <td>BATTERY</td>\n",
              "      <td>SIMPLE</td>\n",
              "      <td>SIDEWALK</td>\n",
              "      <td>False</td>\n",
              "      <td>FALSE</td>\n",
              "      <td>911</td>\n",
              "      <td>9</td>\n",
              "      <td>12</td>\n",
              "      <td>59</td>\n",
              "      <td>08B</td>\n",
              "      <td>1161093</td>\n",
              "      <td>1881324</td>\n",
              "      <td>2015</td>\n",
              "      <td>2/10/2018 15:50</td>\n",
              "      <td>41.830038</td>\n",
              "      <td>-87.68445274</td>\n",
              "      <td>(41.830038123, -87.684452738)</td>\n",
              "    </tr>\n",
              "    <tr>\n",
              "      <th>497</th>\n",
              "      <td>011XX W OHIO ST</td>\n",
              "      <td>620</td>\n",
              "      <td>BURGLARY</td>\n",
              "      <td>UNLAWFUL ENTRY</td>\n",
              "      <td>RESIDENCE-GARAGE</td>\n",
              "      <td>False</td>\n",
              "      <td>FALSE</td>\n",
              "      <td>1214</td>\n",
              "      <td>12</td>\n",
              "      <td>27</td>\n",
              "      <td>24</td>\n",
              "      <td>5</td>\n",
              "      <td>1168750</td>\n",
              "      <td>1904033</td>\n",
              "      <td>2015</td>\n",
              "      <td>2/10/2018 15:50</td>\n",
              "      <td>41.892191</td>\n",
              "      <td>-87.65570155</td>\n",
              "      <td>(41.892191358, -87.65570155)</td>\n",
              "    </tr>\n",
              "    <tr>\n",
              "      <th>498</th>\n",
              "      <td>036XX N ASHLAND AVE</td>\n",
              "      <td>810</td>\n",
              "      <td>THEFT</td>\n",
              "      <td>OVER $500</td>\n",
              "      <td>GAS STATION</td>\n",
              "      <td>False</td>\n",
              "      <td>FALSE</td>\n",
              "      <td>1922</td>\n",
              "      <td>19</td>\n",
              "      <td>47</td>\n",
              "      <td>6</td>\n",
              "      <td>6</td>\n",
              "      <td>1165009</td>\n",
              "      <td>1924140</td>\n",
              "      <td>2015</td>\n",
              "      <td>2/10/2018 15:50</td>\n",
              "      <td>41.947446</td>\n",
              "      <td>-87.66886843</td>\n",
              "      <td>(41.947446464, -87.668868434)</td>\n",
              "    </tr>\n",
              "  </tbody>\n",
              "</table>\n",
              "<p>499 rows × 19 columns</p>\n",
              "</div>\n",
              "      <button class=\"colab-df-convert\" onclick=\"convertToInteractive('df-4a2fbd0b-a1dc-4819-90f2-ccb868be2da8')\"\n",
              "              title=\"Convert this dataframe to an interactive table.\"\n",
              "              style=\"display:none;\">\n",
              "        \n",
              "  <svg xmlns=\"http://www.w3.org/2000/svg\" height=\"24px\"viewBox=\"0 0 24 24\"\n",
              "       width=\"24px\">\n",
              "    <path d=\"M0 0h24v24H0V0z\" fill=\"none\"/>\n",
              "    <path d=\"M18.56 5.44l.94 2.06.94-2.06 2.06-.94-2.06-.94-.94-2.06-.94 2.06-2.06.94zm-11 1L8.5 8.5l.94-2.06 2.06-.94-2.06-.94L8.5 2.5l-.94 2.06-2.06.94zm10 10l.94 2.06.94-2.06 2.06-.94-2.06-.94-.94-2.06-.94 2.06-2.06.94z\"/><path d=\"M17.41 7.96l-1.37-1.37c-.4-.4-.92-.59-1.43-.59-.52 0-1.04.2-1.43.59L10.3 9.45l-7.72 7.72c-.78.78-.78 2.05 0 2.83L4 21.41c.39.39.9.59 1.41.59.51 0 1.02-.2 1.41-.59l7.78-7.78 2.81-2.81c.8-.78.8-2.07 0-2.86zM5.41 20L4 18.59l7.72-7.72 1.47 1.35L5.41 20z\"/>\n",
              "  </svg>\n",
              "      </button>\n",
              "      \n",
              "  <style>\n",
              "    .colab-df-container {\n",
              "      display:flex;\n",
              "      flex-wrap:wrap;\n",
              "      gap: 12px;\n",
              "    }\n",
              "\n",
              "    .colab-df-convert {\n",
              "      background-color: #E8F0FE;\n",
              "      border: none;\n",
              "      border-radius: 50%;\n",
              "      cursor: pointer;\n",
              "      display: none;\n",
              "      fill: #1967D2;\n",
              "      height: 32px;\n",
              "      padding: 0 0 0 0;\n",
              "      width: 32px;\n",
              "    }\n",
              "\n",
              "    .colab-df-convert:hover {\n",
              "      background-color: #E2EBFA;\n",
              "      box-shadow: 0px 1px 2px rgba(60, 64, 67, 0.3), 0px 1px 3px 1px rgba(60, 64, 67, 0.15);\n",
              "      fill: #174EA6;\n",
              "    }\n",
              "\n",
              "    [theme=dark] .colab-df-convert {\n",
              "      background-color: #3B4455;\n",
              "      fill: #D2E3FC;\n",
              "    }\n",
              "\n",
              "    [theme=dark] .colab-df-convert:hover {\n",
              "      background-color: #434B5C;\n",
              "      box-shadow: 0px 1px 3px 1px rgba(0, 0, 0, 0.15);\n",
              "      filter: drop-shadow(0px 1px 2px rgba(0, 0, 0, 0.3));\n",
              "      fill: #FFFFFF;\n",
              "    }\n",
              "  </style>\n",
              "\n",
              "      <script>\n",
              "        const buttonEl =\n",
              "          document.querySelector('#df-4a2fbd0b-a1dc-4819-90f2-ccb868be2da8 button.colab-df-convert');\n",
              "        buttonEl.style.display =\n",
              "          google.colab.kernel.accessAllowed ? 'block' : 'none';\n",
              "\n",
              "        async function convertToInteractive(key) {\n",
              "          const element = document.querySelector('#df-4a2fbd0b-a1dc-4819-90f2-ccb868be2da8');\n",
              "          const dataTable =\n",
              "            await google.colab.kernel.invokeFunction('convertToInteractive',\n",
              "                                                     [key], {});\n",
              "          if (!dataTable) return;\n",
              "\n",
              "          const docLinkHtml = 'Like what you see? Visit the ' +\n",
              "            '<a target=\"_blank\" href=https://colab.research.google.com/notebooks/data_table.ipynb>data table notebook</a>'\n",
              "            + ' to learn more about interactive tables.';\n",
              "          element.innerHTML = '';\n",
              "          dataTable['output_type'] = 'display_data';\n",
              "          await google.colab.output.renderOutput(dataTable, element);\n",
              "          const docLink = document.createElement('div');\n",
              "          docLink.innerHTML = docLinkHtml;\n",
              "          element.appendChild(docLink);\n",
              "        }\n",
              "      </script>\n",
              "    </div>\n",
              "  </div>\n",
              "  "
            ]
          },
          "metadata": {},
          "execution_count": 5
        }
      ]
    },
    {
      "cell_type": "code",
      "source": [
        "mydata = mydata[mydata[\"Domestic\"] !='1533']"
      ],
      "metadata": {
        "id": "83SFPabn9lfD"
      },
      "execution_count": null,
      "outputs": []
    },
    {
      "cell_type": "code",
      "source": [
        "mydata"
      ],
      "metadata": {
        "colab": {
          "base_uri": "https://localhost:8080/",
          "height": 800
        },
        "id": "VIBsFjfQACVz",
        "outputId": "fcc87b74-340d-4041-c3a4-1e222c532e4a"
      },
      "execution_count": null,
      "outputs": [
        {
          "output_type": "execute_result",
          "data": {
            "text/plain": [
              "                      Block  IUCR     Primary Type              Description  \\\n",
              "0           047XX W OHIO ST  041A          BATTERY      AGGRAVATED: HANDGUN   \n",
              "1    066XX S MARSHFIELD AVE  4625    OTHER OFFENSE         PAROLE VIOLATION   \n",
              "2     044XX S LAKE PARK AVE   486          BATTERY  DOMESTIC BATTERY SIMPLE   \n",
              "3      051XX S MICHIGAN AVE   460          BATTERY                   SIMPLE   \n",
              "4          047XX W ADAMS ST  031A          ROBBERY           ARMED: HANDGUN   \n",
              "..                      ...   ...              ...                      ...   \n",
              "494     009XX W DICKENS AVE  1320  CRIMINAL DAMAGE               TO VEHICLE   \n",
              "495     004XX S FRANKLIN ST   810            THEFT                OVER $500   \n",
              "496    035XX S WESTERN BLVD   460          BATTERY                   SIMPLE   \n",
              "497         011XX W OHIO ST   620         BURGLARY           UNLAWFUL ENTRY   \n",
              "498     036XX N ASHLAND AVE   810            THEFT                OVER $500   \n",
              "\n",
              "               Location Description  Arrest Domestic  Beat  District  Ward  \\\n",
              "0                            STREET   False    FALSE  1111        11    28   \n",
              "1                            STREET    True    FALSE   725         7    15   \n",
              "2                         APARTMENT   False     TRUE   222         2     4   \n",
              "3                         APARTMENT   False    FALSE   225         2     3   \n",
              "4                          SIDEWALK   False    FALSE  1113        11    28   \n",
              "..                              ...     ...      ...   ...       ...   ...   \n",
              "494                          STREET   False    FALSE  1812        18    43   \n",
              "495  PARKING LOT/GARAGE(NON.RESID.)   False    FALSE   122         1     2   \n",
              "496                        SIDEWALK   False    FALSE   911         9    12   \n",
              "497                RESIDENCE-GARAGE   False    FALSE  1214        12    27   \n",
              "498                     GAS STATION   False    FALSE  1922        19    47   \n",
              "\n",
              "     Community Area FBI Code  X Coordinate Y Coordinate  Year  \\\n",
              "0                25      04B       1144606      1903566  2015   \n",
              "1                67       26       1166468      1860715  2015   \n",
              "2                39      08B       1185075      1875622  2015   \n",
              "3                40      08B       1178033      1870804  2015   \n",
              "4                25        3       1144920      1898709  2015   \n",
              "..              ...      ...           ...          ...   ...   \n",
              "494               7       14       1169489      1914149  2015   \n",
              "495              32        6       1174386      1898413  2015   \n",
              "496              59      08B       1161093      1881324  2015   \n",
              "497              24        5       1168750      1904033  2015   \n",
              "498               6        6       1165009      1924140  2015   \n",
              "\n",
              "          Updated On   Latitude     Longitude                       Location  \n",
              "0    2/10/2018 15:50  41.891399  -87.74438457  (41.891398861, -87.744384567)  \n",
              "1    2/10/2018 15:50  41.773372  -87.66531947  (41.773371528, -87.665319468)  \n",
              "2    2/10/2018 15:50  41.813861  -87.59664284   (41.81386068, -87.596642837)  \n",
              "3    2/10/2018 15:50  41.800802  -87.62261934  (41.800802415, -87.622619343)  \n",
              "4    2/10/2018 15:50  41.878065  -87.74335401  (41.878064761, -87.743354013)  \n",
              "..               ...        ...           ...                            ...  \n",
              "494  2/10/2018 15:50  41.919934  -87.65269275  (41.919934216, -87.652692746)  \n",
              "495  2/10/2018 15:50  41.876646  -87.63517102  (41.876645737, -87.635171022)  \n",
              "496  2/10/2018 15:50  41.830038  -87.68445274  (41.830038123, -87.684452738)  \n",
              "497  2/10/2018 15:50  41.892191  -87.65570155   (41.892191358, -87.65570155)  \n",
              "498  2/10/2018 15:50  41.947446  -87.66886843  (41.947446464, -87.668868434)  \n",
              "\n",
              "[498 rows x 19 columns]"
            ],
            "text/html": [
              "\n",
              "  <div id=\"df-2cf55858-e25f-4ba2-87a5-6178df299f03\">\n",
              "    <div class=\"colab-df-container\">\n",
              "      <div>\n",
              "<style scoped>\n",
              "    .dataframe tbody tr th:only-of-type {\n",
              "        vertical-align: middle;\n",
              "    }\n",
              "\n",
              "    .dataframe tbody tr th {\n",
              "        vertical-align: top;\n",
              "    }\n",
              "\n",
              "    .dataframe thead th {\n",
              "        text-align: right;\n",
              "    }\n",
              "</style>\n",
              "<table border=\"1\" class=\"dataframe\">\n",
              "  <thead>\n",
              "    <tr style=\"text-align: right;\">\n",
              "      <th></th>\n",
              "      <th>Block</th>\n",
              "      <th>IUCR</th>\n",
              "      <th>Primary Type</th>\n",
              "      <th>Description</th>\n",
              "      <th>Location Description</th>\n",
              "      <th>Arrest</th>\n",
              "      <th>Domestic</th>\n",
              "      <th>Beat</th>\n",
              "      <th>District</th>\n",
              "      <th>Ward</th>\n",
              "      <th>Community Area</th>\n",
              "      <th>FBI Code</th>\n",
              "      <th>X Coordinate</th>\n",
              "      <th>Y Coordinate</th>\n",
              "      <th>Year</th>\n",
              "      <th>Updated On</th>\n",
              "      <th>Latitude</th>\n",
              "      <th>Longitude</th>\n",
              "      <th>Location</th>\n",
              "    </tr>\n",
              "  </thead>\n",
              "  <tbody>\n",
              "    <tr>\n",
              "      <th>0</th>\n",
              "      <td>047XX W OHIO ST</td>\n",
              "      <td>041A</td>\n",
              "      <td>BATTERY</td>\n",
              "      <td>AGGRAVATED: HANDGUN</td>\n",
              "      <td>STREET</td>\n",
              "      <td>False</td>\n",
              "      <td>FALSE</td>\n",
              "      <td>1111</td>\n",
              "      <td>11</td>\n",
              "      <td>28</td>\n",
              "      <td>25</td>\n",
              "      <td>04B</td>\n",
              "      <td>1144606</td>\n",
              "      <td>1903566</td>\n",
              "      <td>2015</td>\n",
              "      <td>2/10/2018 15:50</td>\n",
              "      <td>41.891399</td>\n",
              "      <td>-87.74438457</td>\n",
              "      <td>(41.891398861, -87.744384567)</td>\n",
              "    </tr>\n",
              "    <tr>\n",
              "      <th>1</th>\n",
              "      <td>066XX S MARSHFIELD AVE</td>\n",
              "      <td>4625</td>\n",
              "      <td>OTHER OFFENSE</td>\n",
              "      <td>PAROLE VIOLATION</td>\n",
              "      <td>STREET</td>\n",
              "      <td>True</td>\n",
              "      <td>FALSE</td>\n",
              "      <td>725</td>\n",
              "      <td>7</td>\n",
              "      <td>15</td>\n",
              "      <td>67</td>\n",
              "      <td>26</td>\n",
              "      <td>1166468</td>\n",
              "      <td>1860715</td>\n",
              "      <td>2015</td>\n",
              "      <td>2/10/2018 15:50</td>\n",
              "      <td>41.773372</td>\n",
              "      <td>-87.66531947</td>\n",
              "      <td>(41.773371528, -87.665319468)</td>\n",
              "    </tr>\n",
              "    <tr>\n",
              "      <th>2</th>\n",
              "      <td>044XX S LAKE PARK AVE</td>\n",
              "      <td>486</td>\n",
              "      <td>BATTERY</td>\n",
              "      <td>DOMESTIC BATTERY SIMPLE</td>\n",
              "      <td>APARTMENT</td>\n",
              "      <td>False</td>\n",
              "      <td>TRUE</td>\n",
              "      <td>222</td>\n",
              "      <td>2</td>\n",
              "      <td>4</td>\n",
              "      <td>39</td>\n",
              "      <td>08B</td>\n",
              "      <td>1185075</td>\n",
              "      <td>1875622</td>\n",
              "      <td>2015</td>\n",
              "      <td>2/10/2018 15:50</td>\n",
              "      <td>41.813861</td>\n",
              "      <td>-87.59664284</td>\n",
              "      <td>(41.81386068, -87.596642837)</td>\n",
              "    </tr>\n",
              "    <tr>\n",
              "      <th>3</th>\n",
              "      <td>051XX S MICHIGAN AVE</td>\n",
              "      <td>460</td>\n",
              "      <td>BATTERY</td>\n",
              "      <td>SIMPLE</td>\n",
              "      <td>APARTMENT</td>\n",
              "      <td>False</td>\n",
              "      <td>FALSE</td>\n",
              "      <td>225</td>\n",
              "      <td>2</td>\n",
              "      <td>3</td>\n",
              "      <td>40</td>\n",
              "      <td>08B</td>\n",
              "      <td>1178033</td>\n",
              "      <td>1870804</td>\n",
              "      <td>2015</td>\n",
              "      <td>2/10/2018 15:50</td>\n",
              "      <td>41.800802</td>\n",
              "      <td>-87.62261934</td>\n",
              "      <td>(41.800802415, -87.622619343)</td>\n",
              "    </tr>\n",
              "    <tr>\n",
              "      <th>4</th>\n",
              "      <td>047XX W ADAMS ST</td>\n",
              "      <td>031A</td>\n",
              "      <td>ROBBERY</td>\n",
              "      <td>ARMED: HANDGUN</td>\n",
              "      <td>SIDEWALK</td>\n",
              "      <td>False</td>\n",
              "      <td>FALSE</td>\n",
              "      <td>1113</td>\n",
              "      <td>11</td>\n",
              "      <td>28</td>\n",
              "      <td>25</td>\n",
              "      <td>3</td>\n",
              "      <td>1144920</td>\n",
              "      <td>1898709</td>\n",
              "      <td>2015</td>\n",
              "      <td>2/10/2018 15:50</td>\n",
              "      <td>41.878065</td>\n",
              "      <td>-87.74335401</td>\n",
              "      <td>(41.878064761, -87.743354013)</td>\n",
              "    </tr>\n",
              "    <tr>\n",
              "      <th>...</th>\n",
              "      <td>...</td>\n",
              "      <td>...</td>\n",
              "      <td>...</td>\n",
              "      <td>...</td>\n",
              "      <td>...</td>\n",
              "      <td>...</td>\n",
              "      <td>...</td>\n",
              "      <td>...</td>\n",
              "      <td>...</td>\n",
              "      <td>...</td>\n",
              "      <td>...</td>\n",
              "      <td>...</td>\n",
              "      <td>...</td>\n",
              "      <td>...</td>\n",
              "      <td>...</td>\n",
              "      <td>...</td>\n",
              "      <td>...</td>\n",
              "      <td>...</td>\n",
              "      <td>...</td>\n",
              "    </tr>\n",
              "    <tr>\n",
              "      <th>494</th>\n",
              "      <td>009XX W DICKENS AVE</td>\n",
              "      <td>1320</td>\n",
              "      <td>CRIMINAL DAMAGE</td>\n",
              "      <td>TO VEHICLE</td>\n",
              "      <td>STREET</td>\n",
              "      <td>False</td>\n",
              "      <td>FALSE</td>\n",
              "      <td>1812</td>\n",
              "      <td>18</td>\n",
              "      <td>43</td>\n",
              "      <td>7</td>\n",
              "      <td>14</td>\n",
              "      <td>1169489</td>\n",
              "      <td>1914149</td>\n",
              "      <td>2015</td>\n",
              "      <td>2/10/2018 15:50</td>\n",
              "      <td>41.919934</td>\n",
              "      <td>-87.65269275</td>\n",
              "      <td>(41.919934216, -87.652692746)</td>\n",
              "    </tr>\n",
              "    <tr>\n",
              "      <th>495</th>\n",
              "      <td>004XX S FRANKLIN ST</td>\n",
              "      <td>810</td>\n",
              "      <td>THEFT</td>\n",
              "      <td>OVER $500</td>\n",
              "      <td>PARKING LOT/GARAGE(NON.RESID.)</td>\n",
              "      <td>False</td>\n",
              "      <td>FALSE</td>\n",
              "      <td>122</td>\n",
              "      <td>1</td>\n",
              "      <td>2</td>\n",
              "      <td>32</td>\n",
              "      <td>6</td>\n",
              "      <td>1174386</td>\n",
              "      <td>1898413</td>\n",
              "      <td>2015</td>\n",
              "      <td>2/10/2018 15:50</td>\n",
              "      <td>41.876646</td>\n",
              "      <td>-87.63517102</td>\n",
              "      <td>(41.876645737, -87.635171022)</td>\n",
              "    </tr>\n",
              "    <tr>\n",
              "      <th>496</th>\n",
              "      <td>035XX S WESTERN BLVD</td>\n",
              "      <td>460</td>\n",
              "      <td>BATTERY</td>\n",
              "      <td>SIMPLE</td>\n",
              "      <td>SIDEWALK</td>\n",
              "      <td>False</td>\n",
              "      <td>FALSE</td>\n",
              "      <td>911</td>\n",
              "      <td>9</td>\n",
              "      <td>12</td>\n",
              "      <td>59</td>\n",
              "      <td>08B</td>\n",
              "      <td>1161093</td>\n",
              "      <td>1881324</td>\n",
              "      <td>2015</td>\n",
              "      <td>2/10/2018 15:50</td>\n",
              "      <td>41.830038</td>\n",
              "      <td>-87.68445274</td>\n",
              "      <td>(41.830038123, -87.684452738)</td>\n",
              "    </tr>\n",
              "    <tr>\n",
              "      <th>497</th>\n",
              "      <td>011XX W OHIO ST</td>\n",
              "      <td>620</td>\n",
              "      <td>BURGLARY</td>\n",
              "      <td>UNLAWFUL ENTRY</td>\n",
              "      <td>RESIDENCE-GARAGE</td>\n",
              "      <td>False</td>\n",
              "      <td>FALSE</td>\n",
              "      <td>1214</td>\n",
              "      <td>12</td>\n",
              "      <td>27</td>\n",
              "      <td>24</td>\n",
              "      <td>5</td>\n",
              "      <td>1168750</td>\n",
              "      <td>1904033</td>\n",
              "      <td>2015</td>\n",
              "      <td>2/10/2018 15:50</td>\n",
              "      <td>41.892191</td>\n",
              "      <td>-87.65570155</td>\n",
              "      <td>(41.892191358, -87.65570155)</td>\n",
              "    </tr>\n",
              "    <tr>\n",
              "      <th>498</th>\n",
              "      <td>036XX N ASHLAND AVE</td>\n",
              "      <td>810</td>\n",
              "      <td>THEFT</td>\n",
              "      <td>OVER $500</td>\n",
              "      <td>GAS STATION</td>\n",
              "      <td>False</td>\n",
              "      <td>FALSE</td>\n",
              "      <td>1922</td>\n",
              "      <td>19</td>\n",
              "      <td>47</td>\n",
              "      <td>6</td>\n",
              "      <td>6</td>\n",
              "      <td>1165009</td>\n",
              "      <td>1924140</td>\n",
              "      <td>2015</td>\n",
              "      <td>2/10/2018 15:50</td>\n",
              "      <td>41.947446</td>\n",
              "      <td>-87.66886843</td>\n",
              "      <td>(41.947446464, -87.668868434)</td>\n",
              "    </tr>\n",
              "  </tbody>\n",
              "</table>\n",
              "<p>498 rows × 19 columns</p>\n",
              "</div>\n",
              "      <button class=\"colab-df-convert\" onclick=\"convertToInteractive('df-2cf55858-e25f-4ba2-87a5-6178df299f03')\"\n",
              "              title=\"Convert this dataframe to an interactive table.\"\n",
              "              style=\"display:none;\">\n",
              "        \n",
              "  <svg xmlns=\"http://www.w3.org/2000/svg\" height=\"24px\"viewBox=\"0 0 24 24\"\n",
              "       width=\"24px\">\n",
              "    <path d=\"M0 0h24v24H0V0z\" fill=\"none\"/>\n",
              "    <path d=\"M18.56 5.44l.94 2.06.94-2.06 2.06-.94-2.06-.94-.94-2.06-.94 2.06-2.06.94zm-11 1L8.5 8.5l.94-2.06 2.06-.94-2.06-.94L8.5 2.5l-.94 2.06-2.06.94zm10 10l.94 2.06.94-2.06 2.06-.94-2.06-.94-.94-2.06-.94 2.06-2.06.94z\"/><path d=\"M17.41 7.96l-1.37-1.37c-.4-.4-.92-.59-1.43-.59-.52 0-1.04.2-1.43.59L10.3 9.45l-7.72 7.72c-.78.78-.78 2.05 0 2.83L4 21.41c.39.39.9.59 1.41.59.51 0 1.02-.2 1.41-.59l7.78-7.78 2.81-2.81c.8-.78.8-2.07 0-2.86zM5.41 20L4 18.59l7.72-7.72 1.47 1.35L5.41 20z\"/>\n",
              "  </svg>\n",
              "      </button>\n",
              "      \n",
              "  <style>\n",
              "    .colab-df-container {\n",
              "      display:flex;\n",
              "      flex-wrap:wrap;\n",
              "      gap: 12px;\n",
              "    }\n",
              "\n",
              "    .colab-df-convert {\n",
              "      background-color: #E8F0FE;\n",
              "      border: none;\n",
              "      border-radius: 50%;\n",
              "      cursor: pointer;\n",
              "      display: none;\n",
              "      fill: #1967D2;\n",
              "      height: 32px;\n",
              "      padding: 0 0 0 0;\n",
              "      width: 32px;\n",
              "    }\n",
              "\n",
              "    .colab-df-convert:hover {\n",
              "      background-color: #E2EBFA;\n",
              "      box-shadow: 0px 1px 2px rgba(60, 64, 67, 0.3), 0px 1px 3px 1px rgba(60, 64, 67, 0.15);\n",
              "      fill: #174EA6;\n",
              "    }\n",
              "\n",
              "    [theme=dark] .colab-df-convert {\n",
              "      background-color: #3B4455;\n",
              "      fill: #D2E3FC;\n",
              "    }\n",
              "\n",
              "    [theme=dark] .colab-df-convert:hover {\n",
              "      background-color: #434B5C;\n",
              "      box-shadow: 0px 1px 3px 1px rgba(0, 0, 0, 0.15);\n",
              "      filter: drop-shadow(0px 1px 2px rgba(0, 0, 0, 0.3));\n",
              "      fill: #FFFFFF;\n",
              "    }\n",
              "  </style>\n",
              "\n",
              "      <script>\n",
              "        const buttonEl =\n",
              "          document.querySelector('#df-2cf55858-e25f-4ba2-87a5-6178df299f03 button.colab-df-convert');\n",
              "        buttonEl.style.display =\n",
              "          google.colab.kernel.accessAllowed ? 'block' : 'none';\n",
              "\n",
              "        async function convertToInteractive(key) {\n",
              "          const element = document.querySelector('#df-2cf55858-e25f-4ba2-87a5-6178df299f03');\n",
              "          const dataTable =\n",
              "            await google.colab.kernel.invokeFunction('convertToInteractive',\n",
              "                                                     [key], {});\n",
              "          if (!dataTable) return;\n",
              "\n",
              "          const docLinkHtml = 'Like what you see? Visit the ' +\n",
              "            '<a target=\"_blank\" href=https://colab.research.google.com/notebooks/data_table.ipynb>data table notebook</a>'\n",
              "            + ' to learn more about interactive tables.';\n",
              "          element.innerHTML = '';\n",
              "          dataTable['output_type'] = 'display_data';\n",
              "          await google.colab.output.renderOutput(dataTable, element);\n",
              "          const docLink = document.createElement('div');\n",
              "          docLink.innerHTML = docLinkHtml;\n",
              "          element.appendChild(docLink);\n",
              "        }\n",
              "      </script>\n",
              "    </div>\n",
              "  </div>\n",
              "  "
            ]
          },
          "metadata": {},
          "execution_count": 7
        }
      ]
    },
    {
      "cell_type": "code",
      "source": [
        "col_drop = ['Updated On','IUCR','Description', 'FBI Code', 'X Coordinate','Y Coordinate', 'Location' , 'Year', 'Block','Latitude','Longitude']\n",
        "mydata.drop(col_drop,axis = 1, inplace = True)"
      ],
      "metadata": {
        "colab": {
          "base_uri": "https://localhost:8080/"
        },
        "id": "18HVCEc9Aa9h",
        "outputId": "84d29239-cbda-41cd-9e4b-fd9871c71ef1"
      },
      "execution_count": null,
      "outputs": [
        {
          "output_type": "stream",
          "name": "stderr",
          "text": [
            "<ipython-input-8-3769fb0a2e7a>:2: SettingWithCopyWarning: \n",
            "A value is trying to be set on a copy of a slice from a DataFrame\n",
            "\n",
            "See the caveats in the documentation: https://pandas.pydata.org/pandas-docs/stable/user_guide/indexing.html#returning-a-view-versus-a-copy\n",
            "  mydata.drop(col_drop,axis = 1, inplace = True)\n"
          ]
        }
      ]
    },
    {
      "cell_type": "code",
      "source": [
        "mydata.head()"
      ],
      "metadata": {
        "colab": {
          "base_uri": "https://localhost:8080/",
          "height": 206
        },
        "id": "Heu9AKlKBVbS",
        "outputId": "715a4e01-6e94-4b1b-f678-4211ba6cb96b"
      },
      "execution_count": null,
      "outputs": [
        {
          "output_type": "execute_result",
          "data": {
            "text/plain": [
              "    Primary Type Location Description  Arrest Domestic  Beat  District  Ward  \\\n",
              "0        BATTERY               STREET   False    FALSE  1111        11    28   \n",
              "1  OTHER OFFENSE               STREET    True    FALSE   725         7    15   \n",
              "2        BATTERY            APARTMENT   False     TRUE   222         2     4   \n",
              "3        BATTERY            APARTMENT   False    FALSE   225         2     3   \n",
              "4        ROBBERY             SIDEWALK   False    FALSE  1113        11    28   \n",
              "\n",
              "   Community Area  \n",
              "0              25  \n",
              "1              67  \n",
              "2              39  \n",
              "3              40  \n",
              "4              25  "
            ],
            "text/html": [
              "\n",
              "  <div id=\"df-876d0632-0184-4ffa-870a-2a17a41306cb\">\n",
              "    <div class=\"colab-df-container\">\n",
              "      <div>\n",
              "<style scoped>\n",
              "    .dataframe tbody tr th:only-of-type {\n",
              "        vertical-align: middle;\n",
              "    }\n",
              "\n",
              "    .dataframe tbody tr th {\n",
              "        vertical-align: top;\n",
              "    }\n",
              "\n",
              "    .dataframe thead th {\n",
              "        text-align: right;\n",
              "    }\n",
              "</style>\n",
              "<table border=\"1\" class=\"dataframe\">\n",
              "  <thead>\n",
              "    <tr style=\"text-align: right;\">\n",
              "      <th></th>\n",
              "      <th>Primary Type</th>\n",
              "      <th>Location Description</th>\n",
              "      <th>Arrest</th>\n",
              "      <th>Domestic</th>\n",
              "      <th>Beat</th>\n",
              "      <th>District</th>\n",
              "      <th>Ward</th>\n",
              "      <th>Community Area</th>\n",
              "    </tr>\n",
              "  </thead>\n",
              "  <tbody>\n",
              "    <tr>\n",
              "      <th>0</th>\n",
              "      <td>BATTERY</td>\n",
              "      <td>STREET</td>\n",
              "      <td>False</td>\n",
              "      <td>FALSE</td>\n",
              "      <td>1111</td>\n",
              "      <td>11</td>\n",
              "      <td>28</td>\n",
              "      <td>25</td>\n",
              "    </tr>\n",
              "    <tr>\n",
              "      <th>1</th>\n",
              "      <td>OTHER OFFENSE</td>\n",
              "      <td>STREET</td>\n",
              "      <td>True</td>\n",
              "      <td>FALSE</td>\n",
              "      <td>725</td>\n",
              "      <td>7</td>\n",
              "      <td>15</td>\n",
              "      <td>67</td>\n",
              "    </tr>\n",
              "    <tr>\n",
              "      <th>2</th>\n",
              "      <td>BATTERY</td>\n",
              "      <td>APARTMENT</td>\n",
              "      <td>False</td>\n",
              "      <td>TRUE</td>\n",
              "      <td>222</td>\n",
              "      <td>2</td>\n",
              "      <td>4</td>\n",
              "      <td>39</td>\n",
              "    </tr>\n",
              "    <tr>\n",
              "      <th>3</th>\n",
              "      <td>BATTERY</td>\n",
              "      <td>APARTMENT</td>\n",
              "      <td>False</td>\n",
              "      <td>FALSE</td>\n",
              "      <td>225</td>\n",
              "      <td>2</td>\n",
              "      <td>3</td>\n",
              "      <td>40</td>\n",
              "    </tr>\n",
              "    <tr>\n",
              "      <th>4</th>\n",
              "      <td>ROBBERY</td>\n",
              "      <td>SIDEWALK</td>\n",
              "      <td>False</td>\n",
              "      <td>FALSE</td>\n",
              "      <td>1113</td>\n",
              "      <td>11</td>\n",
              "      <td>28</td>\n",
              "      <td>25</td>\n",
              "    </tr>\n",
              "  </tbody>\n",
              "</table>\n",
              "</div>\n",
              "      <button class=\"colab-df-convert\" onclick=\"convertToInteractive('df-876d0632-0184-4ffa-870a-2a17a41306cb')\"\n",
              "              title=\"Convert this dataframe to an interactive table.\"\n",
              "              style=\"display:none;\">\n",
              "        \n",
              "  <svg xmlns=\"http://www.w3.org/2000/svg\" height=\"24px\"viewBox=\"0 0 24 24\"\n",
              "       width=\"24px\">\n",
              "    <path d=\"M0 0h24v24H0V0z\" fill=\"none\"/>\n",
              "    <path d=\"M18.56 5.44l.94 2.06.94-2.06 2.06-.94-2.06-.94-.94-2.06-.94 2.06-2.06.94zm-11 1L8.5 8.5l.94-2.06 2.06-.94-2.06-.94L8.5 2.5l-.94 2.06-2.06.94zm10 10l.94 2.06.94-2.06 2.06-.94-2.06-.94-.94-2.06-.94 2.06-2.06.94z\"/><path d=\"M17.41 7.96l-1.37-1.37c-.4-.4-.92-.59-1.43-.59-.52 0-1.04.2-1.43.59L10.3 9.45l-7.72 7.72c-.78.78-.78 2.05 0 2.83L4 21.41c.39.39.9.59 1.41.59.51 0 1.02-.2 1.41-.59l7.78-7.78 2.81-2.81c.8-.78.8-2.07 0-2.86zM5.41 20L4 18.59l7.72-7.72 1.47 1.35L5.41 20z\"/>\n",
              "  </svg>\n",
              "      </button>\n",
              "      \n",
              "  <style>\n",
              "    .colab-df-container {\n",
              "      display:flex;\n",
              "      flex-wrap:wrap;\n",
              "      gap: 12px;\n",
              "    }\n",
              "\n",
              "    .colab-df-convert {\n",
              "      background-color: #E8F0FE;\n",
              "      border: none;\n",
              "      border-radius: 50%;\n",
              "      cursor: pointer;\n",
              "      display: none;\n",
              "      fill: #1967D2;\n",
              "      height: 32px;\n",
              "      padding: 0 0 0 0;\n",
              "      width: 32px;\n",
              "    }\n",
              "\n",
              "    .colab-df-convert:hover {\n",
              "      background-color: #E2EBFA;\n",
              "      box-shadow: 0px 1px 2px rgba(60, 64, 67, 0.3), 0px 1px 3px 1px rgba(60, 64, 67, 0.15);\n",
              "      fill: #174EA6;\n",
              "    }\n",
              "\n",
              "    [theme=dark] .colab-df-convert {\n",
              "      background-color: #3B4455;\n",
              "      fill: #D2E3FC;\n",
              "    }\n",
              "\n",
              "    [theme=dark] .colab-df-convert:hover {\n",
              "      background-color: #434B5C;\n",
              "      box-shadow: 0px 1px 3px 1px rgba(0, 0, 0, 0.15);\n",
              "      filter: drop-shadow(0px 1px 2px rgba(0, 0, 0, 0.3));\n",
              "      fill: #FFFFFF;\n",
              "    }\n",
              "  </style>\n",
              "\n",
              "      <script>\n",
              "        const buttonEl =\n",
              "          document.querySelector('#df-876d0632-0184-4ffa-870a-2a17a41306cb button.colab-df-convert');\n",
              "        buttonEl.style.display =\n",
              "          google.colab.kernel.accessAllowed ? 'block' : 'none';\n",
              "\n",
              "        async function convertToInteractive(key) {\n",
              "          const element = document.querySelector('#df-876d0632-0184-4ffa-870a-2a17a41306cb');\n",
              "          const dataTable =\n",
              "            await google.colab.kernel.invokeFunction('convertToInteractive',\n",
              "                                                     [key], {});\n",
              "          if (!dataTable) return;\n",
              "\n",
              "          const docLinkHtml = 'Like what you see? Visit the ' +\n",
              "            '<a target=\"_blank\" href=https://colab.research.google.com/notebooks/data_table.ipynb>data table notebook</a>'\n",
              "            + ' to learn more about interactive tables.';\n",
              "          element.innerHTML = '';\n",
              "          dataTable['output_type'] = 'display_data';\n",
              "          await google.colab.output.renderOutput(dataTable, element);\n",
              "          const docLink = document.createElement('div');\n",
              "          docLink.innerHTML = docLinkHtml;\n",
              "          element.appendChild(docLink);\n",
              "        }\n",
              "      </script>\n",
              "    </div>\n",
              "  </div>\n",
              "  "
            ]
          },
          "metadata": {},
          "execution_count": 9
        }
      ]
    },
    {
      "cell_type": "code",
      "source": [
        "mydata['Arrest'] = [0 if x == False else 1 for x in mydata['Arrest']]"
      ],
      "metadata": {
        "colab": {
          "base_uri": "https://localhost:8080/"
        },
        "id": "Ag9oPgasDxPu",
        "outputId": "d36e3114-ba3b-4c2a-d7dc-8b1bda565995"
      },
      "execution_count": null,
      "outputs": [
        {
          "output_type": "stream",
          "name": "stderr",
          "text": [
            "<ipython-input-10-ca541fcf27d4>:1: SettingWithCopyWarning: \n",
            "A value is trying to be set on a copy of a slice from a DataFrame.\n",
            "Try using .loc[row_indexer,col_indexer] = value instead\n",
            "\n",
            "See the caveats in the documentation: https://pandas.pydata.org/pandas-docs/stable/user_guide/indexing.html#returning-a-view-versus-a-copy\n",
            "  mydata['Arrest'] = [0 if x == False else 1 for x in mydata['Arrest']]\n"
          ]
        }
      ]
    },
    {
      "cell_type": "code",
      "source": [
        "x=mydata.select_dtypes('O')"
      ],
      "metadata": {
        "id": "njAWkwheBbkx"
      },
      "execution_count": null,
      "outputs": []
    },
    {
      "cell_type": "code",
      "source": [
        "x1 = mydata\n",
        "for col in x.columns:\n",
        "  lb = LabelEncoder()\n",
        "  x1[col] = lb.fit_transform(x[col].values)"
      ],
      "metadata": {
        "colab": {
          "base_uri": "https://localhost:8080/"
        },
        "id": "TzzxPtaTB5dv",
        "outputId": "0225173c-1fa7-4139-eb24-72b1517ed080"
      },
      "execution_count": null,
      "outputs": [
        {
          "output_type": "stream",
          "name": "stderr",
          "text": [
            "<ipython-input-12-9d091cc2d2ac>:4: SettingWithCopyWarning: \n",
            "A value is trying to be set on a copy of a slice from a DataFrame.\n",
            "Try using .loc[row_indexer,col_indexer] = value instead\n",
            "\n",
            "See the caveats in the documentation: https://pandas.pydata.org/pandas-docs/stable/user_guide/indexing.html#returning-a-view-versus-a-copy\n",
            "  x1[col] = lb.fit_transform(x[col].values)\n",
            "<ipython-input-12-9d091cc2d2ac>:4: SettingWithCopyWarning: \n",
            "A value is trying to be set on a copy of a slice from a DataFrame.\n",
            "Try using .loc[row_indexer,col_indexer] = value instead\n",
            "\n",
            "See the caveats in the documentation: https://pandas.pydata.org/pandas-docs/stable/user_guide/indexing.html#returning-a-view-versus-a-copy\n",
            "  x1[col] = lb.fit_transform(x[col].values)\n",
            "<ipython-input-12-9d091cc2d2ac>:4: SettingWithCopyWarning: \n",
            "A value is trying to be set on a copy of a slice from a DataFrame.\n",
            "Try using .loc[row_indexer,col_indexer] = value instead\n",
            "\n",
            "See the caveats in the documentation: https://pandas.pydata.org/pandas-docs/stable/user_guide/indexing.html#returning-a-view-versus-a-copy\n",
            "  x1[col] = lb.fit_transform(x[col].values)\n"
          ]
        }
      ]
    },
    {
      "cell_type": "code",
      "source": [
        "x1.dtypes"
      ],
      "metadata": {
        "colab": {
          "base_uri": "https://localhost:8080/"
        },
        "id": "krhoVeYqC_zN",
        "outputId": "2239c5be-1383-4931-8000-1027a518429c"
      },
      "execution_count": null,
      "outputs": [
        {
          "output_type": "execute_result",
          "data": {
            "text/plain": [
              "Primary Type            int64\n",
              "Location Description    int64\n",
              "Arrest                  int64\n",
              "Domestic                int64\n",
              "Beat                    int64\n",
              "District                int64\n",
              "Ward                    int64\n",
              "Community Area          int64\n",
              "dtype: object"
            ]
          },
          "metadata": {},
          "execution_count": 13
        }
      ]
    },
    {
      "cell_type": "code",
      "source": [
        "x1"
      ],
      "metadata": {
        "colab": {
          "base_uri": "https://localhost:8080/",
          "height": 423
        },
        "id": "xn4YgOLIC21_",
        "outputId": "fbb5d7ce-69c2-4b7e-b15b-cca911376150"
      },
      "execution_count": null,
      "outputs": [
        {
          "output_type": "execute_result",
          "data": {
            "text/plain": [
              "     Primary Type  Location Description  Arrest  Domestic  Beat  District  \\\n",
              "0               2                    40       0         0  1111        11   \n",
              "1              14                    40       1         0   725         7   \n",
              "2               2                     3       0         1   222         2   \n",
              "3               2                     3       0         0   225         2   \n",
              "4              17                    38       0         0  1113        11   \n",
              "..            ...                   ...     ...       ...   ...       ...   \n",
              "494             5                    40       0         0  1812        18   \n",
              "495            19                    28       0         0   122         1   \n",
              "496             2                    38       0         0   911         9   \n",
              "497             3                    31       0         0  1214        12   \n",
              "498            19                    19       0         0  1922        19   \n",
              "\n",
              "     Ward  Community Area  \n",
              "0      28              25  \n",
              "1      15              67  \n",
              "2       4              39  \n",
              "3       3              40  \n",
              "4      28              25  \n",
              "..    ...             ...  \n",
              "494    43               7  \n",
              "495     2              32  \n",
              "496    12              59  \n",
              "497    27              24  \n",
              "498    47               6  \n",
              "\n",
              "[498 rows x 8 columns]"
            ],
            "text/html": [
              "\n",
              "  <div id=\"df-ef3f7880-cbbe-4ac4-9d4e-c45fcd02ae9f\">\n",
              "    <div class=\"colab-df-container\">\n",
              "      <div>\n",
              "<style scoped>\n",
              "    .dataframe tbody tr th:only-of-type {\n",
              "        vertical-align: middle;\n",
              "    }\n",
              "\n",
              "    .dataframe tbody tr th {\n",
              "        vertical-align: top;\n",
              "    }\n",
              "\n",
              "    .dataframe thead th {\n",
              "        text-align: right;\n",
              "    }\n",
              "</style>\n",
              "<table border=\"1\" class=\"dataframe\">\n",
              "  <thead>\n",
              "    <tr style=\"text-align: right;\">\n",
              "      <th></th>\n",
              "      <th>Primary Type</th>\n",
              "      <th>Location Description</th>\n",
              "      <th>Arrest</th>\n",
              "      <th>Domestic</th>\n",
              "      <th>Beat</th>\n",
              "      <th>District</th>\n",
              "      <th>Ward</th>\n",
              "      <th>Community Area</th>\n",
              "    </tr>\n",
              "  </thead>\n",
              "  <tbody>\n",
              "    <tr>\n",
              "      <th>0</th>\n",
              "      <td>2</td>\n",
              "      <td>40</td>\n",
              "      <td>0</td>\n",
              "      <td>0</td>\n",
              "      <td>1111</td>\n",
              "      <td>11</td>\n",
              "      <td>28</td>\n",
              "      <td>25</td>\n",
              "    </tr>\n",
              "    <tr>\n",
              "      <th>1</th>\n",
              "      <td>14</td>\n",
              "      <td>40</td>\n",
              "      <td>1</td>\n",
              "      <td>0</td>\n",
              "      <td>725</td>\n",
              "      <td>7</td>\n",
              "      <td>15</td>\n",
              "      <td>67</td>\n",
              "    </tr>\n",
              "    <tr>\n",
              "      <th>2</th>\n",
              "      <td>2</td>\n",
              "      <td>3</td>\n",
              "      <td>0</td>\n",
              "      <td>1</td>\n",
              "      <td>222</td>\n",
              "      <td>2</td>\n",
              "      <td>4</td>\n",
              "      <td>39</td>\n",
              "    </tr>\n",
              "    <tr>\n",
              "      <th>3</th>\n",
              "      <td>2</td>\n",
              "      <td>3</td>\n",
              "      <td>0</td>\n",
              "      <td>0</td>\n",
              "      <td>225</td>\n",
              "      <td>2</td>\n",
              "      <td>3</td>\n",
              "      <td>40</td>\n",
              "    </tr>\n",
              "    <tr>\n",
              "      <th>4</th>\n",
              "      <td>17</td>\n",
              "      <td>38</td>\n",
              "      <td>0</td>\n",
              "      <td>0</td>\n",
              "      <td>1113</td>\n",
              "      <td>11</td>\n",
              "      <td>28</td>\n",
              "      <td>25</td>\n",
              "    </tr>\n",
              "    <tr>\n",
              "      <th>...</th>\n",
              "      <td>...</td>\n",
              "      <td>...</td>\n",
              "      <td>...</td>\n",
              "      <td>...</td>\n",
              "      <td>...</td>\n",
              "      <td>...</td>\n",
              "      <td>...</td>\n",
              "      <td>...</td>\n",
              "    </tr>\n",
              "    <tr>\n",
              "      <th>494</th>\n",
              "      <td>5</td>\n",
              "      <td>40</td>\n",
              "      <td>0</td>\n",
              "      <td>0</td>\n",
              "      <td>1812</td>\n",
              "      <td>18</td>\n",
              "      <td>43</td>\n",
              "      <td>7</td>\n",
              "    </tr>\n",
              "    <tr>\n",
              "      <th>495</th>\n",
              "      <td>19</td>\n",
              "      <td>28</td>\n",
              "      <td>0</td>\n",
              "      <td>0</td>\n",
              "      <td>122</td>\n",
              "      <td>1</td>\n",
              "      <td>2</td>\n",
              "      <td>32</td>\n",
              "    </tr>\n",
              "    <tr>\n",
              "      <th>496</th>\n",
              "      <td>2</td>\n",
              "      <td>38</td>\n",
              "      <td>0</td>\n",
              "      <td>0</td>\n",
              "      <td>911</td>\n",
              "      <td>9</td>\n",
              "      <td>12</td>\n",
              "      <td>59</td>\n",
              "    </tr>\n",
              "    <tr>\n",
              "      <th>497</th>\n",
              "      <td>3</td>\n",
              "      <td>31</td>\n",
              "      <td>0</td>\n",
              "      <td>0</td>\n",
              "      <td>1214</td>\n",
              "      <td>12</td>\n",
              "      <td>27</td>\n",
              "      <td>24</td>\n",
              "    </tr>\n",
              "    <tr>\n",
              "      <th>498</th>\n",
              "      <td>19</td>\n",
              "      <td>19</td>\n",
              "      <td>0</td>\n",
              "      <td>0</td>\n",
              "      <td>1922</td>\n",
              "      <td>19</td>\n",
              "      <td>47</td>\n",
              "      <td>6</td>\n",
              "    </tr>\n",
              "  </tbody>\n",
              "</table>\n",
              "<p>498 rows × 8 columns</p>\n",
              "</div>\n",
              "      <button class=\"colab-df-convert\" onclick=\"convertToInteractive('df-ef3f7880-cbbe-4ac4-9d4e-c45fcd02ae9f')\"\n",
              "              title=\"Convert this dataframe to an interactive table.\"\n",
              "              style=\"display:none;\">\n",
              "        \n",
              "  <svg xmlns=\"http://www.w3.org/2000/svg\" height=\"24px\"viewBox=\"0 0 24 24\"\n",
              "       width=\"24px\">\n",
              "    <path d=\"M0 0h24v24H0V0z\" fill=\"none\"/>\n",
              "    <path d=\"M18.56 5.44l.94 2.06.94-2.06 2.06-.94-2.06-.94-.94-2.06-.94 2.06-2.06.94zm-11 1L8.5 8.5l.94-2.06 2.06-.94-2.06-.94L8.5 2.5l-.94 2.06-2.06.94zm10 10l.94 2.06.94-2.06 2.06-.94-2.06-.94-.94-2.06-.94 2.06-2.06.94z\"/><path d=\"M17.41 7.96l-1.37-1.37c-.4-.4-.92-.59-1.43-.59-.52 0-1.04.2-1.43.59L10.3 9.45l-7.72 7.72c-.78.78-.78 2.05 0 2.83L4 21.41c.39.39.9.59 1.41.59.51 0 1.02-.2 1.41-.59l7.78-7.78 2.81-2.81c.8-.78.8-2.07 0-2.86zM5.41 20L4 18.59l7.72-7.72 1.47 1.35L5.41 20z\"/>\n",
              "  </svg>\n",
              "      </button>\n",
              "      \n",
              "  <style>\n",
              "    .colab-df-container {\n",
              "      display:flex;\n",
              "      flex-wrap:wrap;\n",
              "      gap: 12px;\n",
              "    }\n",
              "\n",
              "    .colab-df-convert {\n",
              "      background-color: #E8F0FE;\n",
              "      border: none;\n",
              "      border-radius: 50%;\n",
              "      cursor: pointer;\n",
              "      display: none;\n",
              "      fill: #1967D2;\n",
              "      height: 32px;\n",
              "      padding: 0 0 0 0;\n",
              "      width: 32px;\n",
              "    }\n",
              "\n",
              "    .colab-df-convert:hover {\n",
              "      background-color: #E2EBFA;\n",
              "      box-shadow: 0px 1px 2px rgba(60, 64, 67, 0.3), 0px 1px 3px 1px rgba(60, 64, 67, 0.15);\n",
              "      fill: #174EA6;\n",
              "    }\n",
              "\n",
              "    [theme=dark] .colab-df-convert {\n",
              "      background-color: #3B4455;\n",
              "      fill: #D2E3FC;\n",
              "    }\n",
              "\n",
              "    [theme=dark] .colab-df-convert:hover {\n",
              "      background-color: #434B5C;\n",
              "      box-shadow: 0px 1px 3px 1px rgba(0, 0, 0, 0.15);\n",
              "      filter: drop-shadow(0px 1px 2px rgba(0, 0, 0, 0.3));\n",
              "      fill: #FFFFFF;\n",
              "    }\n",
              "  </style>\n",
              "\n",
              "      <script>\n",
              "        const buttonEl =\n",
              "          document.querySelector('#df-ef3f7880-cbbe-4ac4-9d4e-c45fcd02ae9f button.colab-df-convert');\n",
              "        buttonEl.style.display =\n",
              "          google.colab.kernel.accessAllowed ? 'block' : 'none';\n",
              "\n",
              "        async function convertToInteractive(key) {\n",
              "          const element = document.querySelector('#df-ef3f7880-cbbe-4ac4-9d4e-c45fcd02ae9f');\n",
              "          const dataTable =\n",
              "            await google.colab.kernel.invokeFunction('convertToInteractive',\n",
              "                                                     [key], {});\n",
              "          if (!dataTable) return;\n",
              "\n",
              "          const docLinkHtml = 'Like what you see? Visit the ' +\n",
              "            '<a target=\"_blank\" href=https://colab.research.google.com/notebooks/data_table.ipynb>data table notebook</a>'\n",
              "            + ' to learn more about interactive tables.';\n",
              "          element.innerHTML = '';\n",
              "          dataTable['output_type'] = 'display_data';\n",
              "          await google.colab.output.renderOutput(dataTable, element);\n",
              "          const docLink = document.createElement('div');\n",
              "          docLink.innerHTML = docLinkHtml;\n",
              "          element.appendChild(docLink);\n",
              "        }\n",
              "      </script>\n",
              "    </div>\n",
              "  </div>\n",
              "  "
            ]
          },
          "metadata": {},
          "execution_count": 14
        }
      ]
    },
    {
      "cell_type": "code",
      "source": [
        "#Feature Selection\n",
        "X = x1.drop('Domestic', axis =1)"
      ],
      "metadata": {
        "id": "IcEsxSzfCuj1"
      },
      "execution_count": null,
      "outputs": []
    },
    {
      "cell_type": "code",
      "source": [
        "feat_labels = X.columns"
      ],
      "metadata": {
        "id": "J01FeqCcCkl2"
      },
      "execution_count": null,
      "outputs": []
    },
    {
      "cell_type": "code",
      "source": [
        "y = x1['Domestic'] "
      ],
      "metadata": {
        "id": "LcEVJT0UEqN0"
      },
      "execution_count": null,
      "outputs": []
    },
    {
      "cell_type": "code",
      "source": [
        "X_train, X_test, y_train, y_test = train_test_split(X,y, test_size = 0.3, random_state = 0)"
      ],
      "metadata": {
        "id": "X3V8zUdrEwQM"
      },
      "execution_count": null,
      "outputs": []
    },
    {
      "cell_type": "code",
      "source": [
        "clf = RandomForestClassifier(n_estimators = 150, max_depth=7, random_state = 0)"
      ],
      "metadata": {
        "id": "CxSdoK4-FJfe"
      },
      "execution_count": null,
      "outputs": []
    },
    {
      "cell_type": "code",
      "source": [
        "clf.fit(X_train,y_train)"
      ],
      "metadata": {
        "colab": {
          "base_uri": "https://localhost:8080/",
          "height": 74
        },
        "id": "fnt6TlAFFqd3",
        "outputId": "ce9e4501-a80b-46b6-8a29-302e1f299ae0"
      },
      "execution_count": null,
      "outputs": [
        {
          "output_type": "execute_result",
          "data": {
            "text/plain": [
              "RandomForestClassifier(max_depth=7, n_estimators=150, random_state=0)"
            ],
            "text/html": [
              "<style>#sk-container-id-1 {color: black;background-color: white;}#sk-container-id-1 pre{padding: 0;}#sk-container-id-1 div.sk-toggleable {background-color: white;}#sk-container-id-1 label.sk-toggleable__label {cursor: pointer;display: block;width: 100%;margin-bottom: 0;padding: 0.3em;box-sizing: border-box;text-align: center;}#sk-container-id-1 label.sk-toggleable__label-arrow:before {content: \"▸\";float: left;margin-right: 0.25em;color: #696969;}#sk-container-id-1 label.sk-toggleable__label-arrow:hover:before {color: black;}#sk-container-id-1 div.sk-estimator:hover label.sk-toggleable__label-arrow:before {color: black;}#sk-container-id-1 div.sk-toggleable__content {max-height: 0;max-width: 0;overflow: hidden;text-align: left;background-color: #f0f8ff;}#sk-container-id-1 div.sk-toggleable__content pre {margin: 0.2em;color: black;border-radius: 0.25em;background-color: #f0f8ff;}#sk-container-id-1 input.sk-toggleable__control:checked~div.sk-toggleable__content {max-height: 200px;max-width: 100%;overflow: auto;}#sk-container-id-1 input.sk-toggleable__control:checked~label.sk-toggleable__label-arrow:before {content: \"▾\";}#sk-container-id-1 div.sk-estimator input.sk-toggleable__control:checked~label.sk-toggleable__label {background-color: #d4ebff;}#sk-container-id-1 div.sk-label input.sk-toggleable__control:checked~label.sk-toggleable__label {background-color: #d4ebff;}#sk-container-id-1 input.sk-hidden--visually {border: 0;clip: rect(1px 1px 1px 1px);clip: rect(1px, 1px, 1px, 1px);height: 1px;margin: -1px;overflow: hidden;padding: 0;position: absolute;width: 1px;}#sk-container-id-1 div.sk-estimator {font-family: monospace;background-color: #f0f8ff;border: 1px dotted black;border-radius: 0.25em;box-sizing: border-box;margin-bottom: 0.5em;}#sk-container-id-1 div.sk-estimator:hover {background-color: #d4ebff;}#sk-container-id-1 div.sk-parallel-item::after {content: \"\";width: 100%;border-bottom: 1px solid gray;flex-grow: 1;}#sk-container-id-1 div.sk-label:hover label.sk-toggleable__label {background-color: #d4ebff;}#sk-container-id-1 div.sk-serial::before {content: \"\";position: absolute;border-left: 1px solid gray;box-sizing: border-box;top: 0;bottom: 0;left: 50%;z-index: 0;}#sk-container-id-1 div.sk-serial {display: flex;flex-direction: column;align-items: center;background-color: white;padding-right: 0.2em;padding-left: 0.2em;position: relative;}#sk-container-id-1 div.sk-item {position: relative;z-index: 1;}#sk-container-id-1 div.sk-parallel {display: flex;align-items: stretch;justify-content: center;background-color: white;position: relative;}#sk-container-id-1 div.sk-item::before, #sk-container-id-1 div.sk-parallel-item::before {content: \"\";position: absolute;border-left: 1px solid gray;box-sizing: border-box;top: 0;bottom: 0;left: 50%;z-index: -1;}#sk-container-id-1 div.sk-parallel-item {display: flex;flex-direction: column;z-index: 1;position: relative;background-color: white;}#sk-container-id-1 div.sk-parallel-item:first-child::after {align-self: flex-end;width: 50%;}#sk-container-id-1 div.sk-parallel-item:last-child::after {align-self: flex-start;width: 50%;}#sk-container-id-1 div.sk-parallel-item:only-child::after {width: 0;}#sk-container-id-1 div.sk-dashed-wrapped {border: 1px dashed gray;margin: 0 0.4em 0.5em 0.4em;box-sizing: border-box;padding-bottom: 0.4em;background-color: white;}#sk-container-id-1 div.sk-label label {font-family: monospace;font-weight: bold;display: inline-block;line-height: 1.2em;}#sk-container-id-1 div.sk-label-container {text-align: center;}#sk-container-id-1 div.sk-container {/* jupyter's `normalize.less` sets `[hidden] { display: none; }` but bootstrap.min.css set `[hidden] { display: none !important; }` so we also need the `!important` here to be able to override the default hidden behavior on the sphinx rendered scikit-learn.org. See: https://github.com/scikit-learn/scikit-learn/issues/21755 */display: inline-block !important;position: relative;}#sk-container-id-1 div.sk-text-repr-fallback {display: none;}</style><div id=\"sk-container-id-1\" class=\"sk-top-container\"><div class=\"sk-text-repr-fallback\"><pre>RandomForestClassifier(max_depth=7, n_estimators=150, random_state=0)</pre><b>In a Jupyter environment, please rerun this cell to show the HTML representation or trust the notebook. <br />On GitHub, the HTML representation is unable to render, please try loading this page with nbviewer.org.</b></div><div class=\"sk-container\" hidden><div class=\"sk-item\"><div class=\"sk-estimator sk-toggleable\"><input class=\"sk-toggleable__control sk-hidden--visually\" id=\"sk-estimator-id-1\" type=\"checkbox\" checked><label for=\"sk-estimator-id-1\" class=\"sk-toggleable__label sk-toggleable__label-arrow\">RandomForestClassifier</label><div class=\"sk-toggleable__content\"><pre>RandomForestClassifier(max_depth=7, n_estimators=150, random_state=0)</pre></div></div></div></div></div>"
            ]
          },
          "metadata": {},
          "execution_count": 20
        }
      ]
    },
    {
      "cell_type": "code",
      "source": [
        "#finding which feature is important\n",
        "for feature in zip(feat_labels, clf.feature_importances_):\n",
        "  print(feature)"
      ],
      "metadata": {
        "colab": {
          "base_uri": "https://localhost:8080/"
        },
        "id": "XISl2LX9GHGK",
        "outputId": "d94c426a-2fe8-4f62-97d3-271c67125387"
      },
      "execution_count": null,
      "outputs": [
        {
          "output_type": "stream",
          "name": "stdout",
          "text": [
            "('Primary Type', 0.25347661494413903)\n",
            "('Location Description', 0.18186145430792458)\n",
            "('Arrest', 0.034614836074927664)\n",
            "('Beat', 0.16695080757512443)\n",
            "('District', 0.0883318563190807)\n",
            "('Ward', 0.12553054546029246)\n",
            "('Community Area', 0.14923388531851117)\n"
          ]
        }
      ]
    },
    {
      "cell_type": "code",
      "source": [
        "sfm = SelectFromModel(clf, threshold = 0.08)\n",
        "#train the selector\n",
        "sfm.fit(X_train,y_train)"
      ],
      "metadata": {
        "colab": {
          "base_uri": "https://localhost:8080/",
          "height": 117
        },
        "id": "MlMyRZYkIJct",
        "outputId": "99eaca08-4b2a-4a89-dae3-4b5a1a000092"
      },
      "execution_count": null,
      "outputs": [
        {
          "output_type": "execute_result",
          "data": {
            "text/plain": [
              "SelectFromModel(estimator=RandomForestClassifier(max_depth=7, n_estimators=150,\n",
              "                                                 random_state=0),\n",
              "                threshold=0.08)"
            ],
            "text/html": [
              "<style>#sk-container-id-2 {color: black;background-color: white;}#sk-container-id-2 pre{padding: 0;}#sk-container-id-2 div.sk-toggleable {background-color: white;}#sk-container-id-2 label.sk-toggleable__label {cursor: pointer;display: block;width: 100%;margin-bottom: 0;padding: 0.3em;box-sizing: border-box;text-align: center;}#sk-container-id-2 label.sk-toggleable__label-arrow:before {content: \"▸\";float: left;margin-right: 0.25em;color: #696969;}#sk-container-id-2 label.sk-toggleable__label-arrow:hover:before {color: black;}#sk-container-id-2 div.sk-estimator:hover label.sk-toggleable__label-arrow:before {color: black;}#sk-container-id-2 div.sk-toggleable__content {max-height: 0;max-width: 0;overflow: hidden;text-align: left;background-color: #f0f8ff;}#sk-container-id-2 div.sk-toggleable__content pre {margin: 0.2em;color: black;border-radius: 0.25em;background-color: #f0f8ff;}#sk-container-id-2 input.sk-toggleable__control:checked~div.sk-toggleable__content {max-height: 200px;max-width: 100%;overflow: auto;}#sk-container-id-2 input.sk-toggleable__control:checked~label.sk-toggleable__label-arrow:before {content: \"▾\";}#sk-container-id-2 div.sk-estimator input.sk-toggleable__control:checked~label.sk-toggleable__label {background-color: #d4ebff;}#sk-container-id-2 div.sk-label input.sk-toggleable__control:checked~label.sk-toggleable__label {background-color: #d4ebff;}#sk-container-id-2 input.sk-hidden--visually {border: 0;clip: rect(1px 1px 1px 1px);clip: rect(1px, 1px, 1px, 1px);height: 1px;margin: -1px;overflow: hidden;padding: 0;position: absolute;width: 1px;}#sk-container-id-2 div.sk-estimator {font-family: monospace;background-color: #f0f8ff;border: 1px dotted black;border-radius: 0.25em;box-sizing: border-box;margin-bottom: 0.5em;}#sk-container-id-2 div.sk-estimator:hover {background-color: #d4ebff;}#sk-container-id-2 div.sk-parallel-item::after {content: \"\";width: 100%;border-bottom: 1px solid gray;flex-grow: 1;}#sk-container-id-2 div.sk-label:hover label.sk-toggleable__label {background-color: #d4ebff;}#sk-container-id-2 div.sk-serial::before {content: \"\";position: absolute;border-left: 1px solid gray;box-sizing: border-box;top: 0;bottom: 0;left: 50%;z-index: 0;}#sk-container-id-2 div.sk-serial {display: flex;flex-direction: column;align-items: center;background-color: white;padding-right: 0.2em;padding-left: 0.2em;position: relative;}#sk-container-id-2 div.sk-item {position: relative;z-index: 1;}#sk-container-id-2 div.sk-parallel {display: flex;align-items: stretch;justify-content: center;background-color: white;position: relative;}#sk-container-id-2 div.sk-item::before, #sk-container-id-2 div.sk-parallel-item::before {content: \"\";position: absolute;border-left: 1px solid gray;box-sizing: border-box;top: 0;bottom: 0;left: 50%;z-index: -1;}#sk-container-id-2 div.sk-parallel-item {display: flex;flex-direction: column;z-index: 1;position: relative;background-color: white;}#sk-container-id-2 div.sk-parallel-item:first-child::after {align-self: flex-end;width: 50%;}#sk-container-id-2 div.sk-parallel-item:last-child::after {align-self: flex-start;width: 50%;}#sk-container-id-2 div.sk-parallel-item:only-child::after {width: 0;}#sk-container-id-2 div.sk-dashed-wrapped {border: 1px dashed gray;margin: 0 0.4em 0.5em 0.4em;box-sizing: border-box;padding-bottom: 0.4em;background-color: white;}#sk-container-id-2 div.sk-label label {font-family: monospace;font-weight: bold;display: inline-block;line-height: 1.2em;}#sk-container-id-2 div.sk-label-container {text-align: center;}#sk-container-id-2 div.sk-container {/* jupyter's `normalize.less` sets `[hidden] { display: none; }` but bootstrap.min.css set `[hidden] { display: none !important; }` so we also need the `!important` here to be able to override the default hidden behavior on the sphinx rendered scikit-learn.org. See: https://github.com/scikit-learn/scikit-learn/issues/21755 */display: inline-block !important;position: relative;}#sk-container-id-2 div.sk-text-repr-fallback {display: none;}</style><div id=\"sk-container-id-2\" class=\"sk-top-container\"><div class=\"sk-text-repr-fallback\"><pre>SelectFromModel(estimator=RandomForestClassifier(max_depth=7, n_estimators=150,\n",
              "                                                 random_state=0),\n",
              "                threshold=0.08)</pre><b>In a Jupyter environment, please rerun this cell to show the HTML representation or trust the notebook. <br />On GitHub, the HTML representation is unable to render, please try loading this page with nbviewer.org.</b></div><div class=\"sk-container\" hidden><div class=\"sk-item sk-dashed-wrapped\"><div class=\"sk-label-container\"><div class=\"sk-label sk-toggleable\"><input class=\"sk-toggleable__control sk-hidden--visually\" id=\"sk-estimator-id-2\" type=\"checkbox\" ><label for=\"sk-estimator-id-2\" class=\"sk-toggleable__label sk-toggleable__label-arrow\">SelectFromModel</label><div class=\"sk-toggleable__content\"><pre>SelectFromModel(estimator=RandomForestClassifier(max_depth=7, n_estimators=150,\n",
              "                                                 random_state=0),\n",
              "                threshold=0.08)</pre></div></div></div><div class=\"sk-parallel\"><div class=\"sk-parallel-item\"><div class=\"sk-item\"><div class=\"sk-label-container\"><div class=\"sk-label sk-toggleable\"><input class=\"sk-toggleable__control sk-hidden--visually\" id=\"sk-estimator-id-3\" type=\"checkbox\" ><label for=\"sk-estimator-id-3\" class=\"sk-toggleable__label sk-toggleable__label-arrow\">estimator: RandomForestClassifier</label><div class=\"sk-toggleable__content\"><pre>RandomForestClassifier(max_depth=7, n_estimators=150, random_state=0)</pre></div></div></div><div class=\"sk-serial\"><div class=\"sk-item\"><div class=\"sk-estimator sk-toggleable\"><input class=\"sk-toggleable__control sk-hidden--visually\" id=\"sk-estimator-id-4\" type=\"checkbox\" ><label for=\"sk-estimator-id-4\" class=\"sk-toggleable__label sk-toggleable__label-arrow\">RandomForestClassifier</label><div class=\"sk-toggleable__content\"><pre>RandomForestClassifier(max_depth=7, n_estimators=150, random_state=0)</pre></div></div></div></div></div></div></div></div></div></div>"
            ]
          },
          "metadata": {},
          "execution_count": 22
        }
      ]
    },
    {
      "cell_type": "code",
      "source": [
        "X_important_train = sfm.transform(X_train)\n",
        "X_important_test = sfm.transform(X_test)"
      ],
      "metadata": {
        "id": "e5Nh_SmsItv3"
      },
      "execution_count": null,
      "outputs": []
    },
    {
      "cell_type": "code",
      "source": [
        "clf_important = RandomForestClassifier(n_estimators = 150, max_depth= 7, random_state = 5)\n",
        "clf_important.fit(X_important_train, y_train)"
      ],
      "metadata": {
        "colab": {
          "base_uri": "https://localhost:8080/",
          "height": 74
        },
        "id": "-4GUyYctI5c0",
        "outputId": "274a36ec-ec7f-4b2a-8c50-38ed2274250b"
      },
      "execution_count": null,
      "outputs": [
        {
          "output_type": "execute_result",
          "data": {
            "text/plain": [
              "RandomForestClassifier(max_depth=7, n_estimators=150, random_state=5)"
            ],
            "text/html": [
              "<style>#sk-container-id-3 {color: black;background-color: white;}#sk-container-id-3 pre{padding: 0;}#sk-container-id-3 div.sk-toggleable {background-color: white;}#sk-container-id-3 label.sk-toggleable__label {cursor: pointer;display: block;width: 100%;margin-bottom: 0;padding: 0.3em;box-sizing: border-box;text-align: center;}#sk-container-id-3 label.sk-toggleable__label-arrow:before {content: \"▸\";float: left;margin-right: 0.25em;color: #696969;}#sk-container-id-3 label.sk-toggleable__label-arrow:hover:before {color: black;}#sk-container-id-3 div.sk-estimator:hover label.sk-toggleable__label-arrow:before {color: black;}#sk-container-id-3 div.sk-toggleable__content {max-height: 0;max-width: 0;overflow: hidden;text-align: left;background-color: #f0f8ff;}#sk-container-id-3 div.sk-toggleable__content pre {margin: 0.2em;color: black;border-radius: 0.25em;background-color: #f0f8ff;}#sk-container-id-3 input.sk-toggleable__control:checked~div.sk-toggleable__content {max-height: 200px;max-width: 100%;overflow: auto;}#sk-container-id-3 input.sk-toggleable__control:checked~label.sk-toggleable__label-arrow:before {content: \"▾\";}#sk-container-id-3 div.sk-estimator input.sk-toggleable__control:checked~label.sk-toggleable__label {background-color: #d4ebff;}#sk-container-id-3 div.sk-label input.sk-toggleable__control:checked~label.sk-toggleable__label {background-color: #d4ebff;}#sk-container-id-3 input.sk-hidden--visually {border: 0;clip: rect(1px 1px 1px 1px);clip: rect(1px, 1px, 1px, 1px);height: 1px;margin: -1px;overflow: hidden;padding: 0;position: absolute;width: 1px;}#sk-container-id-3 div.sk-estimator {font-family: monospace;background-color: #f0f8ff;border: 1px dotted black;border-radius: 0.25em;box-sizing: border-box;margin-bottom: 0.5em;}#sk-container-id-3 div.sk-estimator:hover {background-color: #d4ebff;}#sk-container-id-3 div.sk-parallel-item::after {content: \"\";width: 100%;border-bottom: 1px solid gray;flex-grow: 1;}#sk-container-id-3 div.sk-label:hover label.sk-toggleable__label {background-color: #d4ebff;}#sk-container-id-3 div.sk-serial::before {content: \"\";position: absolute;border-left: 1px solid gray;box-sizing: border-box;top: 0;bottom: 0;left: 50%;z-index: 0;}#sk-container-id-3 div.sk-serial {display: flex;flex-direction: column;align-items: center;background-color: white;padding-right: 0.2em;padding-left: 0.2em;position: relative;}#sk-container-id-3 div.sk-item {position: relative;z-index: 1;}#sk-container-id-3 div.sk-parallel {display: flex;align-items: stretch;justify-content: center;background-color: white;position: relative;}#sk-container-id-3 div.sk-item::before, #sk-container-id-3 div.sk-parallel-item::before {content: \"\";position: absolute;border-left: 1px solid gray;box-sizing: border-box;top: 0;bottom: 0;left: 50%;z-index: -1;}#sk-container-id-3 div.sk-parallel-item {display: flex;flex-direction: column;z-index: 1;position: relative;background-color: white;}#sk-container-id-3 div.sk-parallel-item:first-child::after {align-self: flex-end;width: 50%;}#sk-container-id-3 div.sk-parallel-item:last-child::after {align-self: flex-start;width: 50%;}#sk-container-id-3 div.sk-parallel-item:only-child::after {width: 0;}#sk-container-id-3 div.sk-dashed-wrapped {border: 1px dashed gray;margin: 0 0.4em 0.5em 0.4em;box-sizing: border-box;padding-bottom: 0.4em;background-color: white;}#sk-container-id-3 div.sk-label label {font-family: monospace;font-weight: bold;display: inline-block;line-height: 1.2em;}#sk-container-id-3 div.sk-label-container {text-align: center;}#sk-container-id-3 div.sk-container {/* jupyter's `normalize.less` sets `[hidden] { display: none; }` but bootstrap.min.css set `[hidden] { display: none !important; }` so we also need the `!important` here to be able to override the default hidden behavior on the sphinx rendered scikit-learn.org. See: https://github.com/scikit-learn/scikit-learn/issues/21755 */display: inline-block !important;position: relative;}#sk-container-id-3 div.sk-text-repr-fallback {display: none;}</style><div id=\"sk-container-id-3\" class=\"sk-top-container\"><div class=\"sk-text-repr-fallback\"><pre>RandomForestClassifier(max_depth=7, n_estimators=150, random_state=5)</pre><b>In a Jupyter environment, please rerun this cell to show the HTML representation or trust the notebook. <br />On GitHub, the HTML representation is unable to render, please try loading this page with nbviewer.org.</b></div><div class=\"sk-container\" hidden><div class=\"sk-item\"><div class=\"sk-estimator sk-toggleable\"><input class=\"sk-toggleable__control sk-hidden--visually\" id=\"sk-estimator-id-5\" type=\"checkbox\" checked><label for=\"sk-estimator-id-5\" class=\"sk-toggleable__label sk-toggleable__label-arrow\">RandomForestClassifier</label><div class=\"sk-toggleable__content\"><pre>RandomForestClassifier(max_depth=7, n_estimators=150, random_state=5)</pre></div></div></div></div></div>"
            ]
          },
          "metadata": {},
          "execution_count": 24
        }
      ]
    },
    {
      "cell_type": "code",
      "source": [
        "y_pred = clf.predict(X_test)\n",
        "accuracy_score(y_test,y_pred)"
      ],
      "metadata": {
        "colab": {
          "base_uri": "https://localhost:8080/"
        },
        "id": "khWX__m-JaqI",
        "outputId": "8a774e49-49f8-4d8a-bf73-803608d21e52"
      },
      "execution_count": null,
      "outputs": [
        {
          "output_type": "execute_result",
          "data": {
            "text/plain": [
              "0.88"
            ]
          },
          "metadata": {},
          "execution_count": 25
        }
      ]
    },
    {
      "cell_type": "code",
      "source": [
        "y_important_pred = clf_important.predict(X_important_test)\n",
        "accuracy_score(y_test, y_important_pred)"
      ],
      "metadata": {
        "colab": {
          "base_uri": "https://localhost:8080/"
        },
        "id": "gbvrzndDKEWf",
        "outputId": "9a46e3a4-3ad5-419b-83ca-66c089b05251"
      },
      "execution_count": null,
      "outputs": [
        {
          "output_type": "execute_result",
          "data": {
            "text/plain": [
              "0.8933333333333333"
            ]
          },
          "metadata": {},
          "execution_count": 26
        }
      ]
    },
    {
      "cell_type": "code",
      "source": [
        "confusion_matrix(y_test,y_important_pred)"
      ],
      "metadata": {
        "colab": {
          "base_uri": "https://localhost:8080/"
        },
        "id": "BLyuveFVKdWZ",
        "outputId": "9292cb89-6e68-4a85-c8f5-bb0ce0ab1d86"
      },
      "execution_count": null,
      "outputs": [
        {
          "output_type": "execute_result",
          "data": {
            "text/plain": [
              "array([[127,   5],\n",
              "       [ 11,   7]])"
            ]
          },
          "metadata": {},
          "execution_count": 27
        }
      ]
    },
    {
      "cell_type": "code",
      "source": [
        "import seaborn as sns\n",
        "import numpy as np\n",
        "from sklearn.utils.multiclass import unique_labels\n",
        "\n",
        "\n",
        "def plot_confusion_matrix(y_true,y_pred):\n",
        "  s = np.sum(confusion_matrix(y_true,y_pred))\n",
        "  labels = ['Domestic','Non-Domestic']\n",
        "  columns = [f'Predicted {label}' for label in labels]\n",
        "  index = [f'Actual {label}' for label in labels]\n",
        "  table = pd.DataFrame(confusion_matrix(y_true,y_pred)/s,\n",
        "                       columns = columns,\n",
        "                       index=index)\n",
        "  return sns.heatmap(table,annot =True, fmt='.2%', cmap ='viridis')\n",
        "\n",
        "plot_confusion_matrix(y_test,y_important_pred)"
      ],
      "metadata": {
        "colab": {
          "base_uri": "https://localhost:8080/",
          "height": 447
        },
        "id": "X6TvOff8Jpep",
        "outputId": "a1a89e9c-4072-4cc5-8030-06fdb1687b2f"
      },
      "execution_count": null,
      "outputs": [
        {
          "output_type": "execute_result",
          "data": {
            "text/plain": [
              "<Axes: >"
            ]
          },
          "metadata": {},
          "execution_count": 28
        },
        {
          "output_type": "display_data",
          "data": {
            "text/plain": [
              "<Figure size 640x480 with 2 Axes>"
            ],
            "image/png": "[encoded data removed]"
          },
          "metadata": {}
        }
      ]
    },
    {
      "cell_type": "code",
      "source": [
        "from sklearn.metrics import classification_report\n",
        "print(classification_report(y_test,y_important_pred))\n",
        "rf = classification_report(y_test,y_important_pred)"
      ],
      "metadata": {
        "colab": {
          "base_uri": "https://localhost:8080/"
        },
        "id": "P733VJCdOf7s",
        "outputId": "71e8a704-4fac-4a1a-aceb-f2a4fa483fa8"
      },
      "execution_count": null,
      "outputs": [
        {
          "output_type": "stream",
          "name": "stdout",
          "text": [
            "              precision    recall  f1-score   support\n",
            "\n",
            "           0       0.92      0.96      0.94       132\n",
            "           1       0.58      0.39      0.47        18\n",
            "\n",
            "    accuracy                           0.89       150\n",
            "   macro avg       0.75      0.68      0.70       150\n",
            "weighted avg       0.88      0.89      0.88       150\n",
            "\n"
          ]
        }
      ]
    },
    {
      "cell_type": "code",
      "source": [
        "#KNN\n",
        "KC = KNeighborsClassifier(n_neighbors=2)\n",
        "KC.fit(X_important_train,y_train)\n",
        "y_pred_KC = KC.predict(X_important_test)\n",
        "confusion_matrix(y_test,y_pred_KC)"
      ],
      "metadata": {
        "colab": {
          "base_uri": "https://localhost:8080/"
        },
        "id": "jBnZFPO_LBZR",
        "outputId": "039f28e8-1941-4515-d55f-a19d85074e4d"
      },
      "execution_count": null,
      "outputs": [
        {
          "output_type": "execute_result",
          "data": {
            "text/plain": [
              "array([[124,   8],\n",
              "       [ 16,   2]])"
            ]
          },
          "metadata": {},
          "execution_count": 30
        }
      ]
    },
    {
      "cell_type": "code",
      "source": [
        "accuracy_score(y_test,y_pred_KC)"
      ],
      "metadata": {
        "colab": {
          "base_uri": "https://localhost:8080/"
        },
        "id": "Bza1XgDwMOkO",
        "outputId": "9de79c52-4280-423c-9cbc-9eaf7e29f4ed"
      },
      "execution_count": null,
      "outputs": [
        {
          "output_type": "execute_result",
          "data": {
            "text/plain": [
              "0.84"
            ]
          },
          "metadata": {},
          "execution_count": 31
        }
      ]
    },
    {
      "cell_type": "code",
      "source": [
        "plot_confusion_matrix(y_test,y_pred_KC)"
      ],
      "metadata": {
        "colab": {
          "base_uri": "https://localhost:8080/",
          "height": 447
        },
        "id": "wm_mLp9MM7AZ",
        "outputId": "d42b9cdd-0cda-47db-8689-648d9af7af9c"
      },
      "execution_count": null,
      "outputs": [
        {
          "output_type": "execute_result",
          "data": {
            "text/plain": [
              "<Axes: >"
            ]
          },
          "metadata": {},
          "execution_count": 32
        },
        {
          "output_type": "display_data",
          "data": {
            "text/plain": [
              "<Figure size 640x480 with 2 Axes>"
            ],
            "image/png": "[encoded data removed]"
          },
          "metadata": {}
        }
      ]
    },
    {
      "cell_type": "code",
      "source": [
        "print(classification_report(y_test,y_pred_KC))\n",
        "knn = classification_report(y_test,y_pred_KC)"
      ],
      "metadata": {
        "colab": {
          "base_uri": "https://localhost:8080/"
        },
        "id": "Sh0OzLYoP2x_",
        "outputId": "b33e8866-7389-472a-f755-7f435410158a"
      },
      "execution_count": null,
      "outputs": [
        {
          "output_type": "stream",
          "name": "stdout",
          "text": [
            "              precision    recall  f1-score   support\n",
            "\n",
            "           0       0.89      0.94      0.91       132\n",
            "           1       0.20      0.11      0.14        18\n",
            "\n",
            "    accuracy                           0.84       150\n",
            "   macro avg       0.54      0.53      0.53       150\n",
            "weighted avg       0.80      0.84      0.82       150\n",
            "\n"
          ]
        }
      ]
    },
    {
      "cell_type": "code",
      "source": [
        "#SVM\n",
        "svmcf = SVC()\n",
        "svmcf.fit(X_important_train,y_train)\n",
        "y_pred_svmcf = svmcf.predict(X_important_test)\n",
        "confusion_matrix(y_test,y_pred_svmcf)"
      ],
      "metadata": {
        "colab": {
          "base_uri": "https://localhost:8080/"
        },
        "id": "3-InPHaZMVtS",
        "outputId": "ffde3449-4de6-4da6-b7de-0293594183a9"
      },
      "execution_count": null,
      "outputs": [
        {
          "output_type": "execute_result",
          "data": {
            "text/plain": [
              "array([[132,   0],\n",
              "       [ 18,   0]])"
            ]
          },
          "metadata": {},
          "execution_count": 34
        }
      ]
    },
    {
      "cell_type": "code",
      "source": [
        "accuracy_score(y_test,y_pred_svmcf)"
      ],
      "metadata": {
        "colab": {
          "base_uri": "https://localhost:8080/"
        },
        "id": "zxcodJgONyWY",
        "outputId": "fd265708-7c7a-452f-fc54-e8250b22191e"
      },
      "execution_count": null,
      "outputs": [
        {
          "output_type": "execute_result",
          "data": {
            "text/plain": [
              "0.88"
            ]
          },
          "metadata": {},
          "execution_count": 35
        }
      ]
    },
    {
      "cell_type": "code",
      "source": [
        "plot_confusion_matrix(y_test,y_pred_svmcf)"
      ],
      "metadata": {
        "colab": {
          "base_uri": "https://localhost:8080/",
          "height": 447
        },
        "id": "_VztTCSENBrB",
        "outputId": "cbe660d4-68af-4b4f-b1bc-935b536fabd1"
      },
      "execution_count": null,
      "outputs": [
        {
          "output_type": "execute_result",
          "data": {
            "text/plain": [
              "<Axes: >"
            ]
          },
          "metadata": {},
          "execution_count": 36
        },
        {
          "output_type": "display_data",
          "data": {
            "text/plain": [
              "<Figure size 640x480 with 2 Axes>"
            ],
            "image/png": "[encoded data removed]"
          },
          "metadata": {}
        }
      ]
    },
    {
      "cell_type": "code",
      "source": [
        "print(classification_report(y_test,y_pred_svmcf))\n",
        "svm = classification_report(y_test,y_pred_svmcf)"
      ],
      "metadata": {
        "colab": {
          "base_uri": "https://localhost:8080/"
        },
        "id": "O8Qn-q1QP9pE",
        "outputId": "cb4eb70b-1939-4a9e-a3ad-c47237c414f7"
      },
      "execution_count": null,
      "outputs": [
        {
          "output_type": "stream",
          "name": "stdout",
          "text": [
            "              precision    recall  f1-score   support\n",
            "\n",
            "           0       0.88      1.00      0.94       132\n",
            "           1       0.00      0.00      0.00        18\n",
            "\n",
            "    accuracy                           0.88       150\n",
            "   macro avg       0.44      0.50      0.47       150\n",
            "weighted avg       0.77      0.88      0.82       150\n",
            "\n"
          ]
        },
        {
          "output_type": "stream",
          "name": "stderr",
          "text": [
            "/usr/local/lib/python3.10/dist-packages/sklearn/metrics/_classification.py:1344: UndefinedMetricWarning: Precision and F-score are ill-defined and being set to 0.0 in labels with no predicted samples. Use `zero_division` parameter to control this behavior.\n",
            "  _warn_prf(average, modifier, msg_start, len(result))\n",
            "/usr/local/lib/python3.10/dist-packages/sklearn/metrics/_classification.py:1344: UndefinedMetricWarning: Precision and F-score are ill-defined and being set to 0.0 in labels with no predicted samples. Use `zero_division` parameter to control this behavior.\n",
            "  _warn_prf(average, modifier, msg_start, len(result))\n",
            "/usr/local/lib/python3.10/dist-packages/sklearn/metrics/_classification.py:1344: UndefinedMetricWarning: Precision and F-score are ill-defined and being set to 0.0 in labels with no predicted samples. Use `zero_division` parameter to control this behavior.\n",
            "  _warn_prf(average, modifier, msg_start, len(result))\n",
            "/usr/local/lib/python3.10/dist-packages/sklearn/metrics/_classification.py:1344: UndefinedMetricWarning: Precision and F-score are ill-defined and being set to 0.0 in labels with no predicted samples. Use `zero_division` parameter to control this behavior.\n",
            "  _warn_prf(average, modifier, msg_start, len(result))\n",
            "/usr/local/lib/python3.10/dist-packages/sklearn/metrics/_classification.py:1344: UndefinedMetricWarning: Precision and F-score are ill-defined and being set to 0.0 in labels with no predicted samples. Use `zero_division` parameter to control this behavior.\n",
            "  _warn_prf(average, modifier, msg_start, len(result))\n",
            "/usr/local/lib/python3.10/dist-packages/sklearn/metrics/_classification.py:1344: UndefinedMetricWarning: Precision and F-score are ill-defined and being set to 0.0 in labels with no predicted samples. Use `zero_division` parameter to control this behavior.\n",
            "  _warn_prf(average, modifier, msg_start, len(result))\n"
          ]
        }
      ]
    },
    {
      "cell_type": "code",
      "source": [
        "models = {\"Random Forest\": rf,\n",
        "          \"KNN\" : knn,\n",
        "          \"SVM\" : svm}\n",
        "\n",
        "for i,v in models.items():\n",
        "  print(i+\"\\n\"+ v+\"\\n\")\n",
        "\n"
      ],
      "metadata": {
        "id": "zDF8kT3CvuNB",
        "colab": {
          "base_uri": "https://localhost:8080/"
        },
        "outputId": "735ba5b2-7fd3-4934-9330-3aea7cb4f092"
      },
      "execution_count": null,
      "outputs": [
        {
          "output_type": "stream",
          "name": "stdout",
          "text": [
            "Random Forest\n",
            "              precision    recall  f1-score   support\n",
            "\n",
            "           0       0.92      0.96      0.94       132\n",
            "           1       0.58      0.39      0.47        18\n",
            "\n",
            "    accuracy                           0.89       150\n",
            "   macro avg       0.75      0.68      0.70       150\n",
            "weighted avg       0.88      0.89      0.88       150\n",
            "\n",
            "\n",
            "KNN\n",
            "              precision    recall  f1-score   support\n",
            "\n",
            "           0       0.89      0.94      0.91       132\n",
            "           1       0.20      0.11      0.14        18\n",
            "\n",
            "    accuracy                           0.84       150\n",
            "   macro avg       0.54      0.53      0.53       150\n",
            "weighted avg       0.80      0.84      0.82       150\n",
            "\n",
            "\n",
            "SVM\n",
            "              precision    recall  f1-score   support\n",
            "\n",
            "           0       0.88      1.00      0.94       132\n",
            "           1       0.00      0.00      0.00        18\n",
            "\n",
            "    accuracy                           0.88       150\n",
            "   macro avg       0.44      0.50      0.47       150\n",
            "weighted avg       0.77      0.88      0.82       150\n",
            "\n",
            "\n"
          ]
        }
      ]
    }
  ]
}